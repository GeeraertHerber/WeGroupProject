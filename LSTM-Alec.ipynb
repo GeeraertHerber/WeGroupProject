{
 "cells": [
  {
   "cell_type": "code",
   "execution_count": 115,
   "metadata": {},
   "outputs": [],
   "source": [
    "import json, os\n",
    "import pandas as pd\n",
    "import numpy as np\n",
    "import seaborn as sns\n",
    "import matplotlib.pyplot as plt\n",
    "from pandas.io.json import json_normalize\n",
    "from bs4 import BeautifulSoup\n",
    "from nltk.corpus import stopwords\n",
    "import re\n",
    "from keras.preprocessing.text import Tokenizer\n",
    "from keras.preprocessing.sequence import pad_sequences\n",
    "from sklearn.model_selection import train_test_split\n",
    "from keras.models import Sequential\n",
    "from keras.layers.embeddings import Embedding\n",
    "from keras.layers import SpatialDropout1D\n",
    "from keras.layers.core import Activation, Dropout, Dense\n",
    "from keras.layers import Flatten, LSTM\n",
    "from keras.callbacks import ModelCheckpoint, EarlyStopping"
   ]
  },
  {
   "cell_type": "code",
   "execution_count": 41,
   "metadata": {},
   "outputs": [],
   "source": [
    "path_to_json = 'howest_dataset/'\n",
    "dataset= pd.DataFrame()\n",
    "json_files = [pos_json for pos_json in os.listdir(path_to_json) if pos_json.endswith('.json')]\n",
    "\n",
    "for json_file in json_files:\n",
    "    json_file=path_to_json+json_file\n",
    "    with open(json_file) as train_file:\n",
    "        dict_train = json.load(train_file)\n",
    "    file_df=pd.DataFrame.from_dict(pd.json_normalize(dict_train), orient='columns')\n",
    "    dataset=dataset.append(file_df,ignore_index = True)"
   ]
  },
  {
   "cell_type": "code",
   "execution_count": 42,
   "metadata": {},
   "outputs": [],
   "source": [
    "dataset.drop(['client_reference','mail_subject','party_id','party_type','unit_id','organization','from_mail','comments'], axis=1, inplace=True) "
   ]
  },
  {
   "cell_type": "code",
   "execution_count": 43,
   "metadata": {},
   "outputs": [],
   "source": [
    "def text_processing(content):\n",
    "    text_no_html = BeautifulSoup(str(content),\"html.parser\" ).get_text()\n",
    "    text_alpha_chars = re.sub(\"[^a-zA-Z']\", \" \", str(text_no_html)) \n",
    "    text_lower = text_alpha_chars.lower()\n",
    "    stops = set(stopwords.words('dutch')) \n",
    "    text_no_stop_words = ' '\n",
    "    for w in text_lower.split():\n",
    "        if w not in stops:  \n",
    "            text_no_stop_words = text_no_stop_words + w + ' '\n",
    "    return text_no_stop_words\n",
    "\n",
    "def get_fileNames(attachment):\n",
    "    fileNames=[]\n",
    "    for obj in attachment:\n",
    "        fileNames.append(obj['filename'].replace('.pdf', ''))\n",
    "        fileNamesStr = ' '.join(fileNames)\n",
    "    return fileNamesStr\n",
    "\n",
    "def get_content(attachment):\n",
    "    contents=[]\n",
    "    for obj in attachment:\n",
    "        contents.append(obj['content'])\n",
    "        contentsStr = ' '.join(contents)\n",
    "        contentsStr=text_processing(contentsStr)\n",
    "    return contentsStr\n",
    "    \n",
    "dataset['mail_content']=dataset['mail_content'].apply(text_processing)\n",
    "dataset['attachments_filename']=dataset['attachments'].apply(get_fileNames)\n",
    "dataset['attachments_content']=dataset['attachments'].apply(get_content)\n",
    "dataset.drop('attachments', axis=1, inplace=True) "
   ]
  },
  {
   "cell_type": "code",
   "execution_count": 44,
   "metadata": {},
   "outputs": [
    {
     "name": "stderr",
     "output_type": "stream",
     "text": [
      "/Users/alechantson/Library/Python/3.7/lib/python/site-packages/pandas/core/frame.py:4315: SettingWithCopyWarning: \n",
      "A value is trying to be set on a copy of a slice from a DataFrame\n",
      "\n",
      "See the caveats in the documentation: https://pandas.pydata.org/pandas-docs/stable/user_guide/indexing.html#returning-a-view-versus-a-copy\n",
      "  errors=errors,\n"
     ]
    }
   ],
   "source": [
    "dataset_nl=dataset.loc[dataset['language']=='nl_BE']\n",
    "dataset_fr=dataset.loc[dataset['language']=='fr_BE']\n",
    "dataset_nl.drop('language', axis=1, inplace=True) \n",
    "dataset_fr.drop('language', axis=1, inplace=True)"
   ]
  },
  {
   "cell_type": "code",
   "execution_count": 45,
   "metadata": {},
   "outputs": [
    {
     "name": "stdout",
     "output_type": "stream",
     "text": [
      "<class 'pandas.core.frame.DataFrame'>\n",
      "Int64Index: 2541 entries, 2 to 3672\n",
      "Data columns (total 7 columns):\n",
      " #   Column                  Non-Null Count  Dtype \n",
      "---  ------                  --------------  ----- \n",
      " 0   mail_content            2541 non-null   object\n",
      " 1   labels.assignment_type  2541 non-null   object\n",
      " 2   labels.case_type        2541 non-null   object\n",
      " 3   labels.sub_case_type    2541 non-null   object\n",
      " 4   labels.damage_type      2541 non-null   object\n",
      " 5   attachments_filename    2541 non-null   object\n",
      " 6   attachments_content     2541 non-null   object\n",
      "dtypes: object(7)\n",
      "memory usage: 158.8+ KB\n"
     ]
    }
   ],
   "source": [
    "dataset_nl.info()"
   ]
  },
  {
   "cell_type": "code",
   "execution_count": 46,
   "metadata": {},
   "outputs": [
    {
     "data": {
      "text/html": [
       "<div>\n",
       "<style scoped>\n",
       "    .dataframe tbody tr th:only-of-type {\n",
       "        vertical-align: middle;\n",
       "    }\n",
       "\n",
       "    .dataframe tbody tr th {\n",
       "        vertical-align: top;\n",
       "    }\n",
       "\n",
       "    .dataframe thead th {\n",
       "        text-align: right;\n",
       "    }\n",
       "</style>\n",
       "<table border=\"1\" class=\"dataframe\">\n",
       "  <thead>\n",
       "    <tr style=\"text-align: right;\">\n",
       "      <th></th>\n",
       "      <th>mail_content</th>\n",
       "      <th>labels.assignment_type</th>\n",
       "      <th>labels.case_type</th>\n",
       "      <th>labels.sub_case_type</th>\n",
       "      <th>labels.damage_type</th>\n",
       "      <th>attachments_filename</th>\n",
       "      <th>attachments_content</th>\n",
       "    </tr>\n",
       "  </thead>\n",
       "  <tbody>\n",
       "    <tr>\n",
       "      <th>2</th>\n",
       "      <td>bijlage wij document betrekking opdracht toev...</td>\n",
       "      <td>Unilateral</td>\n",
       "      <td>Property</td>\n",
       "      <td>Fire</td>\n",
       "      <td>Storm</td>\n",
       "      <td>MISSION_ASSIGNEMENT foto foto Offerte 3.406,12...</td>\n",
       "      <td>nv koning bic btw be verzekeringsmaatschappij...</td>\n",
       "    </tr>\n",
       "    <tr>\n",
       "      <th>4</th>\n",
       "      <td>bijlage wij document betrekking opdracht toev...</td>\n",
       "      <td>Bilateral</td>\n",
       "      <td>Property</td>\n",
       "      <td>Fire</td>\n",
       "      <td>Collision</td>\n",
       "      <td>courtier envoie le devis et confirme le compte...</td>\n",
       "      <td>from kantoor custers date december to beheer ...</td>\n",
       "    </tr>\n",
       "    <tr>\n",
       "      <th>5</th>\n",
       "      <td>sans mevrouw contacteren verzekeraar bijlage ...</td>\n",
       "      <td>Unilateral</td>\n",
       "      <td>Property</td>\n",
       "      <td>Fire</td>\n",
       "      <td>Collision</td>\n",
       "      <td>Foto's van de schade Polis Feel At Home Aangif...</td>\n",
       "      <td>from sent fri sep to subject betreft nr klant...</td>\n",
       "    </tr>\n",
       "    <tr>\n",
       "      <th>6</th>\n",
       "      <td>sans mevrouw contacteren verzekeraar bijlage ...</td>\n",
       "      <td>Unilateral</td>\n",
       "      <td>Property</td>\n",
       "      <td>Fire</td>\n",
       "      <td>WaterDamage</td>\n",
       "      <td>Polis Grimonprez Rapport lekdetectie Bestek sc...</td>\n",
       "      <td>historiek num contract ris schade num beschri...</td>\n",
       "    </tr>\n",
       "    <tr>\n",
       "      <th>7</th>\n",
       "      <td>sans mevrouw contacteren verzekeraar bijlage ...</td>\n",
       "      <td>Bilateral</td>\n",
       "      <td>Liability</td>\n",
       "      <td>Operations</td>\n",
       "      <td>WaterDamage</td>\n",
       "      <td>DOCUMENT 0309808_08-13-2020_320116257 0336257_...</td>\n",
       "      <td>historiek num contract ris schade num beschri...</td>\n",
       "    </tr>\n",
       "  </tbody>\n",
       "</table>\n",
       "</div>"
      ],
      "text/plain": [
       "                                        mail_content labels.assignment_type  \\\n",
       "2   bijlage wij document betrekking opdracht toev...             Unilateral   \n",
       "4   bijlage wij document betrekking opdracht toev...              Bilateral   \n",
       "5   sans mevrouw contacteren verzekeraar bijlage ...             Unilateral   \n",
       "6   sans mevrouw contacteren verzekeraar bijlage ...             Unilateral   \n",
       "7   sans mevrouw contacteren verzekeraar bijlage ...              Bilateral   \n",
       "\n",
       "  labels.case_type labels.sub_case_type labels.damage_type  \\\n",
       "2         Property                 Fire              Storm   \n",
       "4         Property                 Fire          Collision   \n",
       "5         Property                 Fire          Collision   \n",
       "6         Property                 Fire        WaterDamage   \n",
       "7        Liability           Operations        WaterDamage   \n",
       "\n",
       "                                attachments_filename  \\\n",
       "2  MISSION_ASSIGNEMENT foto foto Offerte 3.406,12...   \n",
       "4  courtier envoie le devis et confirme le compte...   \n",
       "5  Foto's van de schade Polis Feel At Home Aangif...   \n",
       "6  Polis Grimonprez Rapport lekdetectie Bestek sc...   \n",
       "7  DOCUMENT 0309808_08-13-2020_320116257 0336257_...   \n",
       "\n",
       "                                 attachments_content  \n",
       "2   nv koning bic btw be verzekeringsmaatschappij...  \n",
       "4   from kantoor custers date december to beheer ...  \n",
       "5   from sent fri sep to subject betreft nr klant...  \n",
       "6   historiek num contract ris schade num beschri...  \n",
       "7   historiek num contract ris schade num beschri...  "
      ]
     },
     "execution_count": 46,
     "metadata": {},
     "output_type": "execute_result"
    }
   ],
   "source": [
    "dataset_nl.head()"
   ]
  },
  {
   "cell_type": "code",
   "execution_count": 47,
   "metadata": {},
   "outputs": [
    {
     "data": {
      "text/plain": [
       "<matplotlib.axes._subplots.AxesSubplot at 0x7fc117e5ded0>"
      ]
     },
     "execution_count": 47,
     "metadata": {},
     "output_type": "execute_result"
    },
    {
     "data": {
      "image/png": "[encoded data removed]",
      "text/plain": [
       "<Figure size 1800x720 with 4 Axes>"
      ]
     },
     "metadata": {
      "needs_background": "light"
     },
     "output_type": "display_data"
    }
   ],
   "source": [
    "fig, ax = plt.subplots(1,4)\n",
    "fig.set_figwidth(25)\n",
    "fig.set_figheight(10)\n",
    "sns.countplot(x='labels.case_type',data=dataset_nl,ax=ax[0])\n",
    "sns.countplot(x='labels.sub_case_type',data=dataset_nl,ax=ax[1])\n",
    "sns.countplot(x='labels.damage_type',data=dataset_nl,ax=ax[2])\n",
    "sns.countplot(x='labels.assignment_type',data=dataset_nl,ax=ax[3])"
   ]
  },
  {
   "cell_type": "code",
   "execution_count": 321,
   "metadata": {},
   "outputs": [],
   "source": [
    "y_nl=dataset_nl[['labels.case_type','labels.sub_case_type','labels.damage_type','labels.assignment_type']]\n",
    "X_nl=dataset_nl.drop(['labels.case_type','labels.sub_case_type','labels.damage_type','labels.assignment_type'], axis=1)"
   ]
  },
  {
   "cell_type": "code",
   "execution_count": 322,
   "metadata": {},
   "outputs": [
    {
     "data": {
      "text/html": [
       "<div>\n",
       "<style scoped>\n",
       "    .dataframe tbody tr th:only-of-type {\n",
       "        vertical-align: middle;\n",
       "    }\n",
       "\n",
       "    .dataframe tbody tr th {\n",
       "        vertical-align: top;\n",
       "    }\n",
       "\n",
       "    .dataframe thead th {\n",
       "        text-align: right;\n",
       "    }\n",
       "</style>\n",
       "<table border=\"1\" class=\"dataframe\">\n",
       "  <thead>\n",
       "    <tr style=\"text-align: right;\">\n",
       "      <th></th>\n",
       "      <th>labels.case_type</th>\n",
       "      <th>labels.sub_case_type</th>\n",
       "      <th>labels.damage_type</th>\n",
       "      <th>labels.assignment_type</th>\n",
       "    </tr>\n",
       "  </thead>\n",
       "  <tbody>\n",
       "    <tr>\n",
       "      <th>2</th>\n",
       "      <td>Property</td>\n",
       "      <td>Fire</td>\n",
       "      <td>Storm</td>\n",
       "      <td>Unilateral</td>\n",
       "    </tr>\n",
       "    <tr>\n",
       "      <th>4</th>\n",
       "      <td>Property</td>\n",
       "      <td>Fire</td>\n",
       "      <td>Collision</td>\n",
       "      <td>Bilateral</td>\n",
       "    </tr>\n",
       "    <tr>\n",
       "      <th>5</th>\n",
       "      <td>Property</td>\n",
       "      <td>Fire</td>\n",
       "      <td>Collision</td>\n",
       "      <td>Unilateral</td>\n",
       "    </tr>\n",
       "    <tr>\n",
       "      <th>6</th>\n",
       "      <td>Property</td>\n",
       "      <td>Fire</td>\n",
       "      <td>WaterDamage</td>\n",
       "      <td>Unilateral</td>\n",
       "    </tr>\n",
       "    <tr>\n",
       "      <th>7</th>\n",
       "      <td>Liability</td>\n",
       "      <td>Operations</td>\n",
       "      <td>WaterDamage</td>\n",
       "      <td>Bilateral</td>\n",
       "    </tr>\n",
       "    <tr>\n",
       "      <th>...</th>\n",
       "      <td>...</td>\n",
       "      <td>...</td>\n",
       "      <td>...</td>\n",
       "      <td>...</td>\n",
       "    </tr>\n",
       "    <tr>\n",
       "      <th>3667</th>\n",
       "      <td>Property</td>\n",
       "      <td>Fire</td>\n",
       "      <td>WaterDamage</td>\n",
       "      <td>Unilateral</td>\n",
       "    </tr>\n",
       "    <tr>\n",
       "      <th>3669</th>\n",
       "      <td>Liability</td>\n",
       "      <td>Operations</td>\n",
       "      <td>WaterDamage</td>\n",
       "      <td>Bilateral</td>\n",
       "    </tr>\n",
       "    <tr>\n",
       "      <th>3670</th>\n",
       "      <td>Liability</td>\n",
       "      <td>Auto</td>\n",
       "      <td>Other_DamageType</td>\n",
       "      <td>Bilateral</td>\n",
       "    </tr>\n",
       "    <tr>\n",
       "      <th>3671</th>\n",
       "      <td>Property</td>\n",
       "      <td>Fire</td>\n",
       "      <td>WaterDamage</td>\n",
       "      <td>Unilateral</td>\n",
       "    </tr>\n",
       "    <tr>\n",
       "      <th>3672</th>\n",
       "      <td>Property</td>\n",
       "      <td>Fire</td>\n",
       "      <td>WaterDamage</td>\n",
       "      <td>Bilateral</td>\n",
       "    </tr>\n",
       "  </tbody>\n",
       "</table>\n",
       "<p>2541 rows × 4 columns</p>\n",
       "</div>"
      ],
      "text/plain": [
       "     labels.case_type labels.sub_case_type labels.damage_type  \\\n",
       "2            Property                 Fire              Storm   \n",
       "4            Property                 Fire          Collision   \n",
       "5            Property                 Fire          Collision   \n",
       "6            Property                 Fire        WaterDamage   \n",
       "7           Liability           Operations        WaterDamage   \n",
       "...               ...                  ...                ...   \n",
       "3667         Property                 Fire        WaterDamage   \n",
       "3669        Liability           Operations        WaterDamage   \n",
       "3670        Liability                 Auto   Other_DamageType   \n",
       "3671         Property                 Fire        WaterDamage   \n",
       "3672         Property                 Fire        WaterDamage   \n",
       "\n",
       "     labels.assignment_type  \n",
       "2                Unilateral  \n",
       "4                 Bilateral  \n",
       "5                Unilateral  \n",
       "6                Unilateral  \n",
       "7                 Bilateral  \n",
       "...                     ...  \n",
       "3667             Unilateral  \n",
       "3669              Bilateral  \n",
       "3670              Bilateral  \n",
       "3671             Unilateral  \n",
       "3672              Bilateral  \n",
       "\n",
       "[2541 rows x 4 columns]"
      ]
     },
     "execution_count": 322,
     "metadata": {},
     "output_type": "execute_result"
    }
   ],
   "source": [
    "y_nl"
   ]
  },
  {
   "cell_type": "code",
   "execution_count": 323,
   "metadata": {},
   "outputs": [],
   "source": [
    "# X_train_nl, X_test_nl, y_train_nl, y_test_nl = train_test_split(X_nl,y_nl, test_size = 0.30, random_state = 0)\n",
    "# print(X_train_nl.shape,Y_train_nl.shape)\n",
    "# print(X_test_nl.shape,Y_test_nl.shape)"
   ]
  },
  {
   "cell_type": "code",
   "execution_count": 324,
   "metadata": {},
   "outputs": [],
   "source": [
    "# The maximum number of words to be used. (most frequent)\n",
    "MAX_NB_WORDS = 50000\n",
    "# Max number of words in each complaint.\n",
    "MAX_SEQUENCE_LENGTH = 2500#NIET GEBRUKT\n",
    "# This is fixed.\n",
    "EMBEDDING_DIM = 100\n",
    "tokenizer = Tokenizer(num_words=MAX_NB_WORDS, filters='!\"#$%&()*+,-./:;<=>?@[\\]^_`{|}~', lower=True)"
   ]
  },
  {
   "cell_type": "code",
   "execution_count": 325,
   "metadata": {},
   "outputs": [],
   "source": [
    "X_nl['content']=dataset[dataset.columns[1:]].apply(lambda x: ' '.join(x.dropna().astype(str)),\n",
    "    axis=1)"
   ]
  },
  {
   "cell_type": "code",
   "execution_count": 326,
   "metadata": {},
   "outputs": [
    {
     "data": {
      "text/html": [
       "<div>\n",
       "<style scoped>\n",
       "    .dataframe tbody tr th:only-of-type {\n",
       "        vertical-align: middle;\n",
       "    }\n",
       "\n",
       "    .dataframe tbody tr th {\n",
       "        vertical-align: top;\n",
       "    }\n",
       "\n",
       "    .dataframe thead th {\n",
       "        text-align: right;\n",
       "    }\n",
       "</style>\n",
       "<table border=\"1\" class=\"dataframe\">\n",
       "  <thead>\n",
       "    <tr style=\"text-align: right;\">\n",
       "      <th></th>\n",
       "      <th>content</th>\n",
       "    </tr>\n",
       "  </thead>\n",
       "  <tbody>\n",
       "    <tr>\n",
       "      <th>2</th>\n",
       "      <td>bijlage wij document betrekking opdracht toev...</td>\n",
       "    </tr>\n",
       "    <tr>\n",
       "      <th>4</th>\n",
       "      <td>bijlage wij document betrekking opdracht toev...</td>\n",
       "    </tr>\n",
       "    <tr>\n",
       "      <th>5</th>\n",
       "      <td>sans mevrouw contacteren verzekeraar bijlage ...</td>\n",
       "    </tr>\n",
       "    <tr>\n",
       "      <th>6</th>\n",
       "      <td>sans mevrouw contacteren verzekeraar bijlage ...</td>\n",
       "    </tr>\n",
       "    <tr>\n",
       "      <th>7</th>\n",
       "      <td>sans mevrouw contacteren verzekeraar bijlage ...</td>\n",
       "    </tr>\n",
       "    <tr>\n",
       "      <th>...</th>\n",
       "      <td>...</td>\n",
       "    </tr>\n",
       "    <tr>\n",
       "      <th>3667</th>\n",
       "      <td>bijlage wij document betrekking opdracht toev...</td>\n",
       "    </tr>\n",
       "    <tr>\n",
       "      <th>3669</th>\n",
       "      <td>sans mevrouw contacteren verzekeraar bijlage ...</td>\n",
       "    </tr>\n",
       "    <tr>\n",
       "      <th>3670</th>\n",
       "      <td>bijlage wij document betrekking opdracht toev...</td>\n",
       "    </tr>\n",
       "    <tr>\n",
       "      <th>3671</th>\n",
       "      <td>bijlage wij document betrekking opdracht toev...</td>\n",
       "    </tr>\n",
       "    <tr>\n",
       "      <th>3672</th>\n",
       "      <td>bijlage wij document betrekking opdracht toev...</td>\n",
       "    </tr>\n",
       "  </tbody>\n",
       "</table>\n",
       "<p>2541 rows × 1 columns</p>\n",
       "</div>"
      ],
      "text/plain": [
       "                                                content\n",
       "2      bijlage wij document betrekking opdracht toev...\n",
       "4      bijlage wij document betrekking opdracht toev...\n",
       "5      sans mevrouw contacteren verzekeraar bijlage ...\n",
       "6      sans mevrouw contacteren verzekeraar bijlage ...\n",
       "7      sans mevrouw contacteren verzekeraar bijlage ...\n",
       "...                                                 ...\n",
       "3667   bijlage wij document betrekking opdracht toev...\n",
       "3669   sans mevrouw contacteren verzekeraar bijlage ...\n",
       "3670   bijlage wij document betrekking opdracht toev...\n",
       "3671   bijlage wij document betrekking opdracht toev...\n",
       "3672   bijlage wij document betrekking opdracht toev...\n",
       "\n",
       "[2541 rows x 1 columns]"
      ]
     },
     "execution_count": 326,
     "metadata": {},
     "output_type": "execute_result"
    }
   ],
   "source": [
    "X_nl.drop(['mail_content','attachments_filename','attachments_content'],axis=1)"
   ]
  },
  {
   "cell_type": "code",
   "execution_count": 327,
   "metadata": {},
   "outputs": [
    {
     "name": "stdout",
     "output_type": "stream",
     "text": [
      "Found 42719 unique tokens.\n",
      "Shape of data tensor: (2541, 33425)\n"
     ]
    }
   ],
   "source": [
    "tokenizer.fit_on_texts(X_nl['content'].values)\n",
    "word_index = tokenizer.word_index\n",
    "print('Found %s unique tokens.' % len(word_index))\n",
    "\n",
    "X_nl = tokenizer.texts_to_sequences(X_nl['content'].values)\n",
    "X_nl = pad_sequences(X_nl)\n",
    "print('Shape of data tensor:', X_nl.shape)"
   ]
  },
  {
   "cell_type": "code",
   "execution_count": 316,
   "metadata": {},
   "outputs": [],
   "source": [
    "#EVEN NEGEREN\n",
    "# tokenizer.fit_on_texts(X_train_nl['attachments_filename'].values)\n",
    "# word_index = tokenizer.word_index\n",
    "# print('Found %s unique tokens.' % len(word_index))\n",
    "\n",
    "# X_train_attFileName_nl = tokenizer.texts_to_sequences(X_train_nl['attachments_filename'].values)\n",
    "# X_train_attFileName_nl = pad_sequences(X_train_attFileName_nl)\n",
    "# print('Shape of data tensor:', X_train_attFileName_nl.shape)\n",
    "# X_test_attFileName_nl = tokenizer.texts_to_sequences(X_test_nl['attachments_filename'].values)\n",
    "# X_test_attFileName_nl = pad_sequences(X_test_attFileName_nl)\n",
    "# print('Shape of data tensor:', X_test_attFileName_nl.shape)"
   ]
  },
  {
   "cell_type": "code",
   "execution_count": 317,
   "metadata": {},
   "outputs": [],
   "source": [
    "#EVEN NEGEREN\n",
    "# tokenizer.fit_on_texts(X_train_nl['attachments_content'].values)\n",
    "# word_index = tokenizer.word_index\n",
    "# print('Found %s unique tokens.' % len(word_index))\n",
    "\n",
    "# X_train_attContent_nl = tokenizer.texts_to_sequences(X_train_nl['attachments_content'].values)\n",
    "# X_train_attContent_nl = pad_sequences(X_train_attContent_nl)\n",
    "# print('Shape of data tensor:', X_train_attContent_nl.shape)\n",
    "# X_test_attContent_nl = tokenizer.texts_to_sequences(X_test_nl['attachments_content'].values)\n",
    "# X_test_attContent_nl = pad_sequences(X_test_attContent_nl)\n",
    "# print('Shape of data tensor:', X_test_attContent_nl.shape)"
   ]
  },
  {
   "cell_type": "code",
   "execution_count": 328,
   "metadata": {},
   "outputs": [
    {
     "name": "stdout",
     "output_type": "stream",
     "text": [
      "Shape of label tensor: (2541, 42)\n"
     ]
    }
   ],
   "source": [
    "y_nl= pd.get_dummies(y_nl)\n",
    "print('Shape of label tensor:', y_nl.shape)"
   ]
  },
  {
   "cell_type": "code",
   "execution_count": 329,
   "metadata": {},
   "outputs": [
    {
     "name": "stdout",
     "output_type": "stream",
     "text": [
      "(1778, 33425) (1778, 42)\n",
      "(763, 33425) (763, 42)\n"
     ]
    }
   ],
   "source": [
    "X_train_nl, X_test_nl, y_train_nl, y_test_nl = train_test_split(X_nl,y_nl, test_size = 0.30, random_state = 42)\n",
    "print(X_train_nl.shape,y_train_nl.shape)\n",
    "print(X_test_nl.shape,y_test_nl.shape)"
   ]
  },
  {
   "cell_type": "code",
   "execution_count": null,
   "metadata": {},
   "outputs": [
    {
     "name": "stdout",
     "output_type": "stream",
     "text": [
      "Epoch 1/5\n",
      "10/25 [===========>..................] - ETA: 25:09 - loss: 14.8317 - accuracy: 0.0689"
     ]
    }
   ],
   "source": [
    "model = Sequential()\n",
    "model.add(Embedding(MAX_NB_WORDS, EMBEDDING_DIM, input_length=X_nl.shape[1]))\n",
    "model.add(SpatialDropout1D(0.2))\n",
    "model.add(LSTM(100, dropout=0.2))\n",
    "model.add(Dense(42, activation='softmax'))\n",
    "model.compile(loss='categorical_crossentropy', optimizer='adam', metrics=['accuracy'])\n",
    "\n",
    "epochs = 5\n",
    "batch_size = 64\n",
    "\n",
    "history = model.fit(X_train_nl,y_train_nl,epochs=epochs, batch_size=batch_size,validation_split=0.1,callbacks=[EarlyStopping(monitor='val_loss', patience=3, min_delta=0.0001)])"
   ]
  },
  {
   "cell_type": "code",
   "execution_count": null,
   "metadata": {},
   "outputs": [],
   "source": []
  }
 ],
 "metadata": {
  "kernelspec": {
   "display_name": "Python 3",
   "language": "python",
   "name": "python3"
  },
  "language_info": {
   "codemirror_mode": {
    "name": "ipython",
    "version": 3
   },
   "file_extension": ".py",
   "mimetype": "text/x-python",
   "name": "python",
   "nbconvert_exporter": "python",
   "pygments_lexer": "ipython3",
   "version": "3.7.4"
  }
 },
 "nbformat": 4,
 "nbformat_minor": 2
}

{
 "cells": [
  {
   "cell_type": "code",
   "execution_count": 96,
   "metadata": {
    "id": "LvFXTrvbHJKp"
   },
   "outputs": [],
   "source": [
    "import matplotlib.pyplot as plt\n",
    "import pandas as pd\n",
    "import numpy as np\n",
    "import seaborn as sns\n",
    "import sys\n",
    "from sklearn import preprocessing\n",
    "from sklearn.preprocessing import MinMaxScaler, StandardScaler, RobustScaler\n",
    "from sklearn.metrics import confusion_matrix,accuracy_score, classification_report\n",
    "from sklearn.model_selection import train_test_split\n",
    "from sklearn.metrics.pairwise import euclidean_distances, cosine_similarity\n",
    "from sklearn.utils import shuffle\n",
    "from sklearn.utils import class_weight\n",
    "from sklearn.metrics import r2_score\n",
    "from sklearn.metrics import mean_absolute_error\n",
    "import tensorflow as tf\n",
    "import tensorflow.keras\n",
    "from tensorflow.keras.models import Sequential, Model\n",
    "from tensorflow.keras.layers import Dense, Dropout,Concatenate, Flatten, Activation, BatchNormalization,SpatialDropout1D,Bidirectional,Input, Embedding, LSTM\n",
    "from tensorflow.keras import backend as K\n",
    "from tensorflow.keras.utils import to_categorical\n",
    "\n",
    "\n",
    "from tensorflow.keras.callbacks import EarlyStopping\n",
    "from tensorflow.keras.preprocessing.sequence import pad_sequences\n",
    "from tensorflow.keras.preprocessing.text import Tokenizer, text_to_word_sequence\n",
    "import re\n",
    "import ast\n",
    "from tensorflow.keras.utils import to_categorical\n",
    "from sklearn.datasets import make_classification\n",
    "from imblearn.over_sampling import RandomOverSampler\n",
    "from collections import Counter\n",
    "\n",
    "pd.set_option('display.max_rows',1000)\n",
    "pd.set_option('display.max_columns',1000)\n",
    "\n",
    "physical_devices = tf.config.experimental.list_physical_devices('GPU')\n",
    "tf.config.experimental.set_memory_growth(physical_devices[0], True)"
   ]
  },
  {
   "cell_type": "code",
   "execution_count": 97,
   "metadata": {
    "id": "aVVBoA5FHNsn"
   },
   "outputs": [],
   "source": [
    "#INLADEN DATAFRAME NA PREPROCCESING\n",
    "dataset=pd.DataFrame()\n",
    "dataset = pd.read_pickle('verzekeringdataset_Ewoud.pkl')"
   ]
  },
  {
   "cell_type": "code",
   "execution_count": 98,
   "metadata": {},
   "outputs": [
    {
     "name": "stdout",
     "output_type": "stream",
     "text": [
      "['Fire', 'Operations', 'Familial', '_PrivateClaim', 'Other', 'Auto']\n",
      "['WaterDamage', 'Other_DamageType', 'Collision', 'Storm', 'Fire_Smoke_Explosion', 'GlassBreakage']\n"
     ]
    }
   ],
   "source": [
    "#Top 6\n",
    "top_amount = 6\n",
    "list_top_label_sub = list(dataset[\"labels.sub_case_type\"].value_counts()[:top_amount].index.tolist())\n",
    "print(list_top_label_sub)\n",
    "dataset = dataset[dataset[\"labels.sub_case_type\"].isin(list_top_label_sub)]\n",
    "top_amount = 6\n",
    "list_top_label_damage = list(dataset[\"labels.damage_type\"].value_counts()[:top_amount].index.tolist())\n",
    "print(list_top_label_damage)\n",
    "dataset = dataset[dataset[\"labels.damage_type\"].isin(list_top_label_damage)]\n",
    "    \n",
    "    \n",
    "  \n",
    "  \n",
    "\n"
   ]
  },
  {
   "cell_type": "code",
   "execution_count": 99,
   "metadata": {
    "id": "1HUzlOH92QXs"
   },
   "outputs": [],
   "source": [
    "n=500\n",
    "dataset=dataset.set_index(['language', 'mail_content','labels.assignment_type','labels.case_type','labels.sub_case_type','labels.damage_type','attachments_filename'])['attachments_content'].str.split().apply(\n",
    "               lambda x: pd.Series([' '.join(x[i:i+n]) for i in range(0, len(x), n)])\n",
    "            ).stack().reset_index().drop('level_7', 1)\n",
    "dataset.columns = [*dataset.columns[:-1], 'attachments_content']"
   ]
  },
  {
   "cell_type": "code",
   "execution_count": 100,
   "metadata": {
    "id": "6i0P8ikdHTFe"
   },
   "outputs": [],
   "source": [
    "y=dataset[['labels.case_type','labels.sub_case_type','labels.damage_type','labels.assignment_type']]\n",
    "X=dataset.drop(['labels.case_type','labels.sub_case_type','labels.damage_type','labels.assignment_type','language'], axis=1)"
   ]
  },
  {
   "cell_type": "code",
   "execution_count": 101,
   "metadata": {},
   "outputs": [
    {
     "data": {
      "text/html": [
       "<div>\n",
       "<style scoped>\n",
       "    .dataframe tbody tr th:only-of-type {\n",
       "        vertical-align: middle;\n",
       "    }\n",
       "\n",
       "    .dataframe tbody tr th {\n",
       "        vertical-align: top;\n",
       "    }\n",
       "\n",
       "    .dataframe thead th {\n",
       "        text-align: right;\n",
       "    }\n",
       "</style>\n",
       "<table border=\"1\" class=\"dataframe\">\n",
       "  <thead>\n",
       "    <tr style=\"text-align: right;\">\n",
       "      <th></th>\n",
       "      <th>labels.case_type</th>\n",
       "      <th>labels.sub_case_type</th>\n",
       "      <th>labels.damage_type</th>\n",
       "      <th>labels.assignment_type</th>\n",
       "    </tr>\n",
       "  </thead>\n",
       "  <tbody>\n",
       "    <tr>\n",
       "      <th>0</th>\n",
       "      <td>Liability</td>\n",
       "      <td>Operations</td>\n",
       "      <td>Other_DamageType</td>\n",
       "      <td>Bilateral</td>\n",
       "    </tr>\n",
       "    <tr>\n",
       "      <th>1</th>\n",
       "      <td>Property</td>\n",
       "      <td>Fire</td>\n",
       "      <td>WaterDamage</td>\n",
       "      <td>Unilateral</td>\n",
       "    </tr>\n",
       "    <tr>\n",
       "      <th>2</th>\n",
       "      <td>Property</td>\n",
       "      <td>Fire</td>\n",
       "      <td>WaterDamage</td>\n",
       "      <td>Unilateral</td>\n",
       "    </tr>\n",
       "    <tr>\n",
       "      <th>3</th>\n",
       "      <td>Liability</td>\n",
       "      <td>Familial</td>\n",
       "      <td>Collision</td>\n",
       "      <td>Bilateral</td>\n",
       "    </tr>\n",
       "    <tr>\n",
       "      <th>4</th>\n",
       "      <td>Liability</td>\n",
       "      <td>Familial</td>\n",
       "      <td>Collision</td>\n",
       "      <td>Bilateral</td>\n",
       "    </tr>\n",
       "    <tr>\n",
       "      <th>...</th>\n",
       "      <td>...</td>\n",
       "      <td>...</td>\n",
       "      <td>...</td>\n",
       "      <td>...</td>\n",
       "    </tr>\n",
       "    <tr>\n",
       "      <th>9156</th>\n",
       "      <td>Liability</td>\n",
       "      <td>Operations</td>\n",
       "      <td>Collision</td>\n",
       "      <td>Bilateral</td>\n",
       "    </tr>\n",
       "    <tr>\n",
       "      <th>9157</th>\n",
       "      <td>Liability</td>\n",
       "      <td>Operations</td>\n",
       "      <td>Collision</td>\n",
       "      <td>Bilateral</td>\n",
       "    </tr>\n",
       "    <tr>\n",
       "      <th>9158</th>\n",
       "      <td>Liability</td>\n",
       "      <td>Operations</td>\n",
       "      <td>Collision</td>\n",
       "      <td>Bilateral</td>\n",
       "    </tr>\n",
       "    <tr>\n",
       "      <th>9159</th>\n",
       "      <td>Liability</td>\n",
       "      <td>Operations</td>\n",
       "      <td>Collision</td>\n",
       "      <td>Bilateral</td>\n",
       "    </tr>\n",
       "    <tr>\n",
       "      <th>9160</th>\n",
       "      <td>Liability</td>\n",
       "      <td>Operations</td>\n",
       "      <td>Other_DamageType</td>\n",
       "      <td>Unilateral</td>\n",
       "    </tr>\n",
       "  </tbody>\n",
       "</table>\n",
       "<p>9161 rows × 4 columns</p>\n",
       "</div>"
      ],
      "text/plain": [
       "     labels.case_type labels.sub_case_type labels.damage_type  \\\n",
       "0           Liability           Operations   Other_DamageType   \n",
       "1            Property                 Fire        WaterDamage   \n",
       "2            Property                 Fire        WaterDamage   \n",
       "3           Liability             Familial          Collision   \n",
       "4           Liability             Familial          Collision   \n",
       "...               ...                  ...                ...   \n",
       "9156        Liability           Operations          Collision   \n",
       "9157        Liability           Operations          Collision   \n",
       "9158        Liability           Operations          Collision   \n",
       "9159        Liability           Operations          Collision   \n",
       "9160        Liability           Operations   Other_DamageType   \n",
       "\n",
       "     labels.assignment_type  \n",
       "0                 Bilateral  \n",
       "1                Unilateral  \n",
       "2                Unilateral  \n",
       "3                 Bilateral  \n",
       "4                 Bilateral  \n",
       "...                     ...  \n",
       "9156              Bilateral  \n",
       "9157              Bilateral  \n",
       "9158              Bilateral  \n",
       "9159              Bilateral  \n",
       "9160             Unilateral  \n",
       "\n",
       "[9161 rows x 4 columns]"
      ]
     },
     "execution_count": 101,
     "metadata": {},
     "output_type": "execute_result"
    }
   ],
   "source": [
    "y"
   ]
  },
  {
   "cell_type": "code",
   "execution_count": 102,
   "metadata": {},
   "outputs": [
    {
     "name": "stderr",
     "output_type": "stream",
     "text": [
      "c:\\users\\ouassim boutalliss\\appdata\\local\\programs\\python\\python38\\lib\\site-packages\\pandas\\core\\series.py:4563: SettingWithCopyWarning: \n",
      "A value is trying to be set on a copy of a slice from a DataFrame\n",
      "\n",
      "See the caveats in the documentation: https://pandas.pydata.org/pandas-docs/stable/user_guide/indexing.html#returning-a-view-versus-a-copy\n",
      "  return super().replace(\n"
     ]
    }
   ],
   "source": [
    "#Categorisch maken & top 6 \n",
    "y['labels.assignment_type'].replace({'Bilateral':0,'Unilateral':1},inplace=True)\n",
    "y['labels.case_type'].replace({'Liability':0,'Property':1,'Automotive':2},inplace=True)\n",
    "y['labels.damage_type'].replace({\"Storm\":0,\n",
    "        \"WaterDamage\":1,\n",
    "        \"Other_DamageType\":2,\n",
    "        \"GlassBreakage\":3,\n",
    "        \"Collision\":4,\n",
    "        \"Fire_Smoke_Explosion\":5},inplace=True)\n",
    "y['labels.sub_case_type'].replace({'Fire':0, 'Operations':1, 'Familial':2, '_PrivateClaim':3, 'Other':4, 'Auto':5},inplace=True)"
   ]
  },
  {
   "cell_type": "code",
   "execution_count": 103,
   "metadata": {
    "colab": {
     "base_uri": "https://localhost:8080/",
     "height": 281
    },
    "id": "EUDhRJLIvoAh",
    "outputId": "c075d3e1-cf8a-443c-d3d1-d8dc129e2647"
   },
   "outputs": [
    {
     "data": {
      "text/html": [
       "<div>\n",
       "<style scoped>\n",
       "    .dataframe tbody tr th:only-of-type {\n",
       "        vertical-align: middle;\n",
       "    }\n",
       "\n",
       "    .dataframe tbody tr th {\n",
       "        vertical-align: top;\n",
       "    }\n",
       "\n",
       "    .dataframe thead th {\n",
       "        text-align: right;\n",
       "    }\n",
       "</style>\n",
       "<table border=\"1\" class=\"dataframe\">\n",
       "  <thead>\n",
       "    <tr style=\"text-align: right;\">\n",
       "      <th></th>\n",
       "      <th>mail_content</th>\n",
       "      <th>attachments_filename</th>\n",
       "      <th>attachments_content</th>\n",
       "    </tr>\n",
       "  </thead>\n",
       "  <tbody>\n",
       "    <tr>\n",
       "      <th>0</th>\n",
       "      <td>br mardi septembre concerne sinistre sans contactons qualit trouverez annexe document relatif s...</td>\n",
       "      <td>VIVIUM GL C301909620 C36 Inspection - DM 2020-09-08 via agt  oa bijkomende info  foto's</td>\n",
       "      <td>cas dommage materiel si rue royale expert num ro dossier compagnie gestionnaire date sinistre co...</td>\n",
       "    </tr>\n",
       "    <tr>\n",
       "      <th>1</th>\n",
       "      <td>bijlage wij document betrekking opdracht toevertrouwd verdediging onze belangen present electro...</td>\n",
       "      <td>MISSION_ASSIGNEMENT mail makelaar - aangifte waterschade foto dakgoot foto dak foto buis buiten ...</td>\n",
       "      <td>nv koning bic btw verzekeringsmaatschappij toegelaten nbb bank codenummer alle beoefenen experts...</td>\n",
       "    </tr>\n",
       "    <tr>\n",
       "      <th>2</th>\n",
       "      <td>bijlage wij document betrekking opdracht toevertrouwd verdediging onze belangen present electro...</td>\n",
       "      <td>MISSION_ASSIGNEMENT mail makelaar - aangifte waterschade foto dakgoot foto dak foto buis buiten ...</td>\n",
       "      <td>fotos zien verduidelijking kapot goot goot kunt vinden foto afvoerbuis kunt zien doordat achter ...</td>\n",
       "    </tr>\n",
       "    <tr>\n",
       "      <th>3</th>\n",
       "      <td>sans mevrouw contacteren verzekeraar bijlage vindt bericht aanleiding waarbij betrokken wij vra...</td>\n",
       "      <td>Copie police 43 Recours pour la franchise contractuelle - rappel #1 43 Recours pour la franchise...</td>\n",
       "      <td>sent tue mar subject sent subject voir document bijgevoegd document auto conditions particuliere...</td>\n",
       "    </tr>\n",
       "    <tr>\n",
       "      <th>4</th>\n",
       "      <td>sans mevrouw contacteren verzekeraar bijlage vindt bericht aanleiding waarbij betrokken wij vra...</td>\n",
       "      <td>Copie police 43 Recours pour la franchise contractuelle - rappel #1 43 Recours pour la franchise...</td>\n",
       "      <td>salutations rapport mission sinistre destinataire local service date informex mandante expert co...</td>\n",
       "    </tr>\n",
       "  </tbody>\n",
       "</table>\n",
       "</div>"
      ],
      "text/plain": [
       "                                                                                          mail_content  \\\n",
       "0   br mardi septembre concerne sinistre sans contactons qualit trouverez annexe document relatif s...   \n",
       "1   bijlage wij document betrekking opdracht toevertrouwd verdediging onze belangen present electro...   \n",
       "2   bijlage wij document betrekking opdracht toevertrouwd verdediging onze belangen present electro...   \n",
       "3   sans mevrouw contacteren verzekeraar bijlage vindt bericht aanleiding waarbij betrokken wij vra...   \n",
       "4   sans mevrouw contacteren verzekeraar bijlage vindt bericht aanleiding waarbij betrokken wij vra...   \n",
       "\n",
       "                                                                                  attachments_filename  \\\n",
       "0              VIVIUM GL C301909620 C36 Inspection - DM 2020-09-08 via agt  oa bijkomende info  foto's   \n",
       "1  MISSION_ASSIGNEMENT mail makelaar - aangifte waterschade foto dakgoot foto dak foto buis buiten ...   \n",
       "2  MISSION_ASSIGNEMENT mail makelaar - aangifte waterschade foto dakgoot foto dak foto buis buiten ...   \n",
       "3  Copie police 43 Recours pour la franchise contractuelle - rappel #1 43 Recours pour la franchise...   \n",
       "4  Copie police 43 Recours pour la franchise contractuelle - rappel #1 43 Recours pour la franchise...   \n",
       "\n",
       "                                                                                   attachments_content  \n",
       "0  cas dommage materiel si rue royale expert num ro dossier compagnie gestionnaire date sinistre co...  \n",
       "1  nv koning bic btw verzekeringsmaatschappij toegelaten nbb bank codenummer alle beoefenen experts...  \n",
       "2  fotos zien verduidelijking kapot goot goot kunt vinden foto afvoerbuis kunt zien doordat achter ...  \n",
       "3  sent tue mar subject sent subject voir document bijgevoegd document auto conditions particuliere...  \n",
       "4  salutations rapport mission sinistre destinataire local service date informex mandante expert co...  "
      ]
     },
     "execution_count": 103,
     "metadata": {},
     "output_type": "execute_result"
    }
   ],
   "source": [
    "pd.set_option('display.max_colwidth', 100)\n",
    "X.head()"
   ]
  },
  {
   "cell_type": "code",
   "execution_count": 104,
   "metadata": {
    "id": "5331Gg5fvoAj"
   },
   "outputs": [
    {
     "data": {
      "text/plain": [
       "<AxesSubplot:xlabel='labels.damage_type', ylabel='count'>"
      ]
     },
     "execution_count": 104,
     "metadata": {},
     "output_type": "execute_result"
    },
    {
     "data": {
      "image/png": "[encoded data removed]",
      "text/plain": [
       "<Figure size 2520x864 with 2 Axes>"
      ]
     },
     "metadata": {
      "needs_background": "light"
     },
     "output_type": "display_data"
    },
    {
     "data": {
      "image/png": "[encoded data removed]",
      "text/plain": [
       "<Figure size 2520x864 with 2 Axes>"
      ]
     },
     "metadata": {
      "needs_background": "light"
     },
     "output_type": "display_data"
    }
   ],
   "source": [
    "plt.figure(1 , figsize = (35 , 12))\n",
    "\n",
    "plt.subplot(1 , 4 , 1)\n",
    "sns.countplot(x=\"labels.assignment_type\",data=dataset)\n",
    "plt.subplot(1 , 4 , 2)\n",
    "sns.countplot(x=\"labels.case_type\",data=dataset)\n",
    "\n",
    "plt.figure(2 , figsize = (35 , 12))\n",
    "plt.subplot(2 , 4 , 1)\n",
    "sns.countplot(x=\"labels.sub_case_type\",data=dataset)\n",
    "plt.subplot(2 , 4 , 2)\n",
    "sns.countplot(x=\"labels.damage_type\",data=dataset)"
   ]
  },
  {
   "cell_type": "markdown",
   "metadata": {},
   "source": [
    "### Hier kunnen we al waarnemen dat onze dataset zeer ongebalanceerd is"
   ]
  },
  {
   "cell_type": "code",
   "execution_count": 105,
   "metadata": {},
   "outputs": [],
   "source": [
    "#drop language en dergelijke \n",
    "dataset = dataset[['mail_content','attachments_filename','attachments_content','labels.assignment_type','labels.case_type','labels.sub_case_type','labels.damage_type']]"
   ]
  },
  {
   "cell_type": "code",
   "execution_count": 106,
   "metadata": {},
   "outputs": [
    {
     "data": {
      "text/html": [
       "<div>\n",
       "<style scoped>\n",
       "    .dataframe tbody tr th:only-of-type {\n",
       "        vertical-align: middle;\n",
       "    }\n",
       "\n",
       "    .dataframe tbody tr th {\n",
       "        vertical-align: top;\n",
       "    }\n",
       "\n",
       "    .dataframe thead th {\n",
       "        text-align: right;\n",
       "    }\n",
       "</style>\n",
       "<table border=\"1\" class=\"dataframe\">\n",
       "  <thead>\n",
       "    <tr style=\"text-align: right;\">\n",
       "      <th></th>\n",
       "      <th>labels.case_type</th>\n",
       "      <th>labels.sub_case_type</th>\n",
       "      <th>labels.damage_type</th>\n",
       "      <th>labels.assignment_type</th>\n",
       "    </tr>\n",
       "  </thead>\n",
       "  <tbody>\n",
       "    <tr>\n",
       "      <th>0</th>\n",
       "      <td>0</td>\n",
       "      <td>1</td>\n",
       "      <td>2</td>\n",
       "      <td>0</td>\n",
       "    </tr>\n",
       "    <tr>\n",
       "      <th>1</th>\n",
       "      <td>1</td>\n",
       "      <td>0</td>\n",
       "      <td>1</td>\n",
       "      <td>1</td>\n",
       "    </tr>\n",
       "    <tr>\n",
       "      <th>2</th>\n",
       "      <td>1</td>\n",
       "      <td>0</td>\n",
       "      <td>1</td>\n",
       "      <td>1</td>\n",
       "    </tr>\n",
       "    <tr>\n",
       "      <th>3</th>\n",
       "      <td>0</td>\n",
       "      <td>2</td>\n",
       "      <td>4</td>\n",
       "      <td>0</td>\n",
       "    </tr>\n",
       "    <tr>\n",
       "      <th>4</th>\n",
       "      <td>0</td>\n",
       "      <td>2</td>\n",
       "      <td>4</td>\n",
       "      <td>0</td>\n",
       "    </tr>\n",
       "    <tr>\n",
       "      <th>...</th>\n",
       "      <td>...</td>\n",
       "      <td>...</td>\n",
       "      <td>...</td>\n",
       "      <td>...</td>\n",
       "    </tr>\n",
       "    <tr>\n",
       "      <th>9156</th>\n",
       "      <td>0</td>\n",
       "      <td>1</td>\n",
       "      <td>4</td>\n",
       "      <td>0</td>\n",
       "    </tr>\n",
       "    <tr>\n",
       "      <th>9157</th>\n",
       "      <td>0</td>\n",
       "      <td>1</td>\n",
       "      <td>4</td>\n",
       "      <td>0</td>\n",
       "    </tr>\n",
       "    <tr>\n",
       "      <th>9158</th>\n",
       "      <td>0</td>\n",
       "      <td>1</td>\n",
       "      <td>4</td>\n",
       "      <td>0</td>\n",
       "    </tr>\n",
       "    <tr>\n",
       "      <th>9159</th>\n",
       "      <td>0</td>\n",
       "      <td>1</td>\n",
       "      <td>4</td>\n",
       "      <td>0</td>\n",
       "    </tr>\n",
       "    <tr>\n",
       "      <th>9160</th>\n",
       "      <td>0</td>\n",
       "      <td>1</td>\n",
       "      <td>2</td>\n",
       "      <td>1</td>\n",
       "    </tr>\n",
       "  </tbody>\n",
       "</table>\n",
       "<p>9161 rows × 4 columns</p>\n",
       "</div>"
      ],
      "text/plain": [
       "      labels.case_type  labels.sub_case_type  labels.damage_type  \\\n",
       "0                    0                     1                   2   \n",
       "1                    1                     0                   1   \n",
       "2                    1                     0                   1   \n",
       "3                    0                     2                   4   \n",
       "4                    0                     2                   4   \n",
       "...                ...                   ...                 ...   \n",
       "9156                 0                     1                   4   \n",
       "9157                 0                     1                   4   \n",
       "9158                 0                     1                   4   \n",
       "9159                 0                     1                   4   \n",
       "9160                 0                     1                   2   \n",
       "\n",
       "      labels.assignment_type  \n",
       "0                          0  \n",
       "1                          1  \n",
       "2                          1  \n",
       "3                          0  \n",
       "4                          0  \n",
       "...                      ...  \n",
       "9156                       0  \n",
       "9157                       0  \n",
       "9158                       0  \n",
       "9159                       0  \n",
       "9160                       1  \n",
       "\n",
       "[9161 rows x 4 columns]"
      ]
     },
     "execution_count": 106,
     "metadata": {},
     "output_type": "execute_result"
    }
   ],
   "source": [
    "y"
   ]
  },
  {
   "cell_type": "code",
   "execution_count": 107,
   "metadata": {
    "colab": {
     "base_uri": "https://localhost:8080/"
    },
    "id": "0L64Cgdv26ta",
    "outputId": "ea890348-edf4-4b34-c8b3-fd0df0aadde2"
   },
   "outputs": [
    {
     "name": "stdout",
     "output_type": "stream",
     "text": [
      "(7328, 3) (7328, 4)\n",
      "(1833, 3) (1833, 4)\n"
     ]
    }
   ],
   "source": [
    "X_train, X_test, y_train, y_test = train_test_split(X,y, test_size = 0.20, random_state=0)\n",
    "print(X_train.shape,y_train.shape)\n",
    "print(X_test.shape,y_test.shape)"
   ]
  },
  {
   "cell_type": "code",
   "execution_count": 108,
   "metadata": {
    "id": "CZZ6YsEFHaf_"
   },
   "outputs": [],
   "source": [
    "#Max number van woorden\n",
    "MAX_NB_WORDS = 50000\n",
    "EMBEDDING_DIM = 150"
   ]
  },
  {
   "cell_type": "code",
   "execution_count": 109,
   "metadata": {
    "colab": {
     "base_uri": "https://localhost:8080/"
    },
    "id": "DAA8bZGPHdue",
    "outputId": "ec5a1df0-e095-453e-f4bf-26e6dba1d366"
   },
   "outputs": [
    {
     "name": "stdout",
     "output_type": "stream",
     "text": [
      "Found 542 unique tokens.\n",
      "Shape of data X_train_mc: (7328, 400)\n",
      "Shape of data X_train_mc: (1833, 400)\n"
     ]
    }
   ],
   "source": [
    "#mail_content Tokenizer\n",
    "tokenizer = Tokenizer(num_words=MAX_NB_WORDS, filters='!\"#$%&()*+,-./:;<=>?@[\\]^_`{|}~', lower=True)\n",
    "tokenizer.fit_on_texts(X['mail_content'].values)\n",
    "word_index = tokenizer.word_index\n",
    "print('Found %s unique tokens.' % len(word_index))\n",
    "\n",
    "X_train_mc = tokenizer.texts_to_sequences(X_train['mail_content'].values)\n",
    "X_train_mc = pad_sequences(X_train_mc,maxlen=400)\n",
    "print('Shape of data X_train_mc:', X_train_mc.shape)\n",
    "\n",
    "X_test_mc = tokenizer.texts_to_sequences(X_test['mail_content'].values)\n",
    "X_test_mc = pad_sequences(X_test_mc,maxlen=400)\n",
    "print('Shape of data X_train_mc:', X_test_mc.shape)"
   ]
  },
  {
   "cell_type": "code",
   "execution_count": 110,
   "metadata": {
    "colab": {
     "base_uri": "https://localhost:8080/"
    },
    "id": "X4_yBNcbvoAl",
    "outputId": "47d86223-10b3-4fa5-ac87-8ddbd9e57ca1"
   },
   "outputs": [
    {
     "name": "stdout",
     "output_type": "stream",
     "text": [
      "Found 14319 unique tokens.\n",
      "Shape of data X_train_af: (7328, 200)\n",
      "Shape of data X_test_af: (1833, 200)\n"
     ]
    }
   ],
   "source": [
    "#attachments_filename Tokenizer\n",
    "tokenizer = Tokenizer(num_words=MAX_NB_WORDS, filters='!\"#$%&()*+,-./:;<=>?@[\\]^_`{|}~', lower=True)\n",
    "tokenizer.fit_on_texts(X['attachments_filename'].values)\n",
    "word_index = tokenizer.word_index\n",
    "print('Found %s unique tokens.' % len(word_index))\n",
    "\n",
    "X_train_af = tokenizer.texts_to_sequences(X_train['attachments_filename'].values)\n",
    "X_train_af = pad_sequences(X_train_af,maxlen=200)\n",
    "print('Shape of data X_train_af:', X_train_af.shape)\n",
    "\n",
    "X_test_af = tokenizer.texts_to_sequences(X_test['attachments_filename'].values)\n",
    "X_test_af = pad_sequences(X_test_af,maxlen=200)\n",
    "print('Shape of data X_test_af:', X_test_af.shape)"
   ]
  },
  {
   "cell_type": "code",
   "execution_count": 111,
   "metadata": {
    "colab": {
     "base_uri": "https://localhost:8080/"
    },
    "id": "G_Tb1Qa9Hi5T",
    "outputId": "f62f3c1a-e6ae-4067-a84b-61c7f3347c65"
   },
   "outputs": [
    {
     "name": "stdout",
     "output_type": "stream",
     "text": [
      "Found 41564 unique tokens.\n",
      "Shape of data X_train_ac: (7328, 500)\n",
      "Shape of data X_train_ac: (1833, 500)\n"
     ]
    }
   ],
   "source": [
    "#attachments_content Tokenizer\n",
    "tokenizer = Tokenizer(num_words=MAX_NB_WORDS, filters='!\"#$%&()*+,-./:;<=>?@[\\]^_`{|}~', lower=True)\n",
    "tokenizer.fit_on_texts(X['attachments_content'].values)\n",
    "word_index = tokenizer.word_index\n",
    "print('Found %s unique tokens.' % len(word_index))\n",
    "\n",
    "X_train_ac = tokenizer.texts_to_sequences(X_train['attachments_content'].values)\n",
    "X_train_ac = pad_sequences(X_train_ac,maxlen=500)\n",
    "print('Shape of data X_train_ac:', X_train_ac.shape)\n",
    "\n",
    "X_test_ac = tokenizer.texts_to_sequences(X_test['attachments_content'].values)\n",
    "X_test_ac = pad_sequences(X_test_ac,maxlen=500)\n",
    "print('Shape of data X_train_ac:', X_test_ac.shape)"
   ]
  },
  {
   "cell_type": "code",
   "execution_count": 112,
   "metadata": {},
   "outputs": [
    {
     "name": "stdout",
     "output_type": "stream",
     "text": [
      "      labels.case_type  labels.sub_case_type  labels.damage_type  \\\n",
      "0                    0                     1                   2   \n",
      "1                    1                     0                   1   \n",
      "2                    1                     0                   1   \n",
      "3                    0                     2                   4   \n",
      "4                    0                     2                   4   \n",
      "...                ...                   ...                 ...   \n",
      "9156                 0                     1                   4   \n",
      "9157                 0                     1                   4   \n",
      "9158                 0                     1                   4   \n",
      "9159                 0                     1                   4   \n",
      "9160                 0                     1                   2   \n",
      "\n",
      "      labels.assignment_type  \n",
      "0                          0  \n",
      "1                          1  \n",
      "2                          1  \n",
      "3                          0  \n",
      "4                          0  \n",
      "...                      ...  \n",
      "9156                       0  \n",
      "9157                       0  \n",
      "9158                       0  \n",
      "9159                       0  \n",
      "9160                       1  \n",
      "\n",
      "[9161 rows x 4 columns]\n"
     ]
    }
   ],
   "source": [
    "print(y)"
   ]
  },
  {
   "cell_type": "code",
   "execution_count": 113,
   "metadata": {},
   "outputs": [
    {
     "data": {
      "text/plain": [
       "array([[   0,    0,    0, ...,  174,  465,  161],\n",
       "       [   0,    0,    0, ...,  174,  465,  161],\n",
       "       [   0,    0,    0, ..., 1488,  175, 1455],\n",
       "       ...,\n",
       "       [  17,   38,   16, ..., 1192,  633,  636],\n",
       "       [   0,    0,    0, ...,   16,  465,  161],\n",
       "       [   0,    0,    0, ...,  387,  335, 3073]])"
      ]
     },
     "execution_count": 113,
     "metadata": {},
     "output_type": "execute_result"
    }
   ],
   "source": [
    "X_train_ac"
   ]
  },
  {
   "cell_type": "code",
   "execution_count": 114,
   "metadata": {},
   "outputs": [
    {
     "name": "stdout",
     "output_type": "stream",
     "text": [
      "Shape of label tensor Y1 Train: (7328, 1)\n",
      "Shape of label tensor Y1 Test: (1833, 1)\n",
      "Shape of label tensor Y2 Train: (7328, 1)\n",
      "Shape of label tensor Y2 Test: (1833, 1)\n",
      "Shape of label tensor Y3 Train: (7328, 1)\n",
      "Shape of label tensor Y3 Test: (1833, 1)\n",
      "Shape of label tensor Y4 Train: (7328, 1)\n",
      "Shape of label tensor Y4 Test: (1833, 1)\n"
     ]
    }
   ],
   "source": [
    "#train & test\n",
    "y1_train=y_train[['labels.assignment_type']]\n",
    "y1_test=y_test[['labels.assignment_type']]\n",
    "y2_train=y_train[['labels.case_type']]\n",
    "y2_test=y_test[['labels.case_type']]\n",
    "y3_train=y_train[['labels.sub_case_type']]\n",
    "y3_test=y_test[['labels.sub_case_type']]\n",
    "y4_train=y_train[['labels.damage_type']]\n",
    "y4_test=y_test[['labels.damage_type']]\n",
    "\n",
    "\n",
    "print('Shape of label tensor Y1 Train:', y1_train.shape)\n",
    "print('Shape of label tensor Y1 Test:', y1_test.shape)\n",
    "print('Shape of label tensor Y2 Train:', y2_train.shape)\n",
    "print('Shape of label tensor Y2 Test:', y2_test.shape)\n",
    "print('Shape of label tensor Y3 Train:', y3_train.shape)\n",
    "print('Shape of label tensor Y3 Test:', y3_test.shape)\n",
    "print('Shape of label tensor Y4 Train:', y4_train.shape)\n",
    "print('Shape of label tensor Y4 Test:', y4_test.shape)"
   ]
  },
  {
   "cell_type": "markdown",
   "metadata": {},
   "source": [
    "## LSTM Modellen"
   ]
  },
  {
   "cell_type": "markdown",
   "metadata": {},
   "source": [
    "### Voorspellen van labels.assignment_type"
   ]
  },
  {
   "cell_type": "code",
   "execution_count": 128,
   "metadata": {
    "id": "n_Y3OyWGvoAn",
    "scrolled": true
   },
   "outputs": [
    {
     "name": "stderr",
     "output_type": "stream",
     "text": [
      "c:\\users\\ouassim boutalliss\\appdata\\local\\programs\\python\\python38\\lib\\site-packages\\sklearn\\utils\\validation.py:67: FutureWarning: Pass classes=[0 1], y=[0 0 1 ... 1 0 0] as keyword args. From version 0.25 passing these as positional arguments will result in an error\n",
      "  warnings.warn(\"Pass {} as keyword args. From version 0.25 \"\n"
     ]
    },
    {
     "name": "stdout",
     "output_type": "stream",
     "text": [
      "class_weights: {0: 0.7687788501888376, 1: 1.4301327088212334}\n",
      "Epoch 1/100\n",
      "92/92 [==============================] - 19s 207ms/step - loss: 0.6023 - accuracy: 0.7347 - val_loss: 0.4468 - val_accuracy: 0.8158\n",
      "Epoch 2/100\n",
      "92/92 [==============================] - 18s 191ms/step - loss: 0.4654 - accuracy: 0.8422 - val_loss: 0.3862 - val_accuracy: 0.8506\n",
      "Epoch 3/100\n",
      "92/92 [==============================] - 18s 194ms/step - loss: 0.3920 - accuracy: 0.8710 - val_loss: 0.3411 - val_accuracy: 0.8711\n",
      "Epoch 4/100\n",
      "92/92 [==============================] - 18s 196ms/step - loss: 0.3400 - accuracy: 0.8893 - val_loss: 0.3131 - val_accuracy: 0.8806\n",
      "Epoch 5/100\n",
      "92/92 [==============================] - 18s 194ms/step - loss: 0.3027 - accuracy: 0.9016 - val_loss: 0.2792 - val_accuracy: 0.8929\n",
      "Epoch 6/100\n",
      "92/92 [==============================] - 18s 194ms/step - loss: 0.2703 - accuracy: 0.9106 - val_loss: 0.2687 - val_accuracy: 0.8984\n",
      "Epoch 7/100\n",
      "92/92 [==============================] - 18s 196ms/step - loss: 0.2496 - accuracy: 0.9162 - val_loss: 0.2630 - val_accuracy: 0.8990\n",
      "Epoch 8/100\n",
      "92/92 [==============================] - 18s 194ms/step - loss: 0.2297 - accuracy: 0.9227 - val_loss: 0.2526 - val_accuracy: 0.9038\n",
      "Epoch 9/100\n",
      "92/92 [==============================] - 18s 193ms/step - loss: 0.2128 - accuracy: 0.9301 - val_loss: 0.2460 - val_accuracy: 0.9113\n",
      "Epoch 10/100\n",
      "92/92 [==============================] - 18s 192ms/step - loss: 0.1945 - accuracy: 0.9376 - val_loss: 0.2495 - val_accuracy: 0.9127\n",
      "Epoch 11/100\n",
      "92/92 [==============================] - 18s 194ms/step - loss: 0.1830 - accuracy: 0.9408 - val_loss: 0.2376 - val_accuracy: 0.9161\n",
      "Epoch 12/100\n",
      "92/92 [==============================] - 18s 196ms/step - loss: 0.1660 - accuracy: 0.9476 - val_loss: 0.2299 - val_accuracy: 0.9236\n",
      "Epoch 13/100\n",
      "92/92 [==============================] - 18s 191ms/step - loss: 0.1568 - accuracy: 0.9514 - val_loss: 0.2321 - val_accuracy: 0.9236\n",
      "Epoch 14/100\n",
      "92/92 [==============================] - 18s 195ms/step - loss: 0.1492 - accuracy: 0.9531 - val_loss: 0.2215 - val_accuracy: 0.9277\n",
      "Epoch 15/100\n",
      "92/92 [==============================] - 18s 195ms/step - loss: 0.1433 - accuracy: 0.9545 - val_loss: 0.2231 - val_accuracy: 0.9311\n",
      "Epoch 16/100\n",
      "92/92 [==============================] - 17s 189ms/step - loss: 0.1394 - accuracy: 0.9556 - val_loss: 0.2253 - val_accuracy: 0.9297\n",
      "Epoch 17/100\n",
      "92/92 [==============================] - 18s 196ms/step - loss: 0.1337 - accuracy: 0.9577 - val_loss: 0.2145 - val_accuracy: 0.9270\n",
      "Epoch 18/100\n",
      "92/92 [==============================] - 18s 197ms/step - loss: 0.1277 - accuracy: 0.9597 - val_loss: 0.2148 - val_accuracy: 0.9332\n",
      "Epoch 19/100\n",
      "92/92 [==============================] - 18s 193ms/step - loss: 0.1217 - accuracy: 0.9611 - val_loss: 0.2340 - val_accuracy: 0.9284\n",
      "Epoch 20/100\n",
      "92/92 [==============================] - 18s 195ms/step - loss: 0.1196 - accuracy: 0.9614 - val_loss: 0.2240 - val_accuracy: 0.9359\n",
      "Epoch 21/100\n",
      "92/92 [==============================] - 18s 193ms/step - loss: 0.1143 - accuracy: 0.9643 - val_loss: 0.2198 - val_accuracy: 0.9352\n",
      "Epoch 22/100\n",
      "92/92 [==============================] - 18s 192ms/step - loss: 0.1105 - accuracy: 0.9652 - val_loss: 0.2190 - val_accuracy: 0.9366\n",
      "Epoch 23/100\n",
      "92/92 [==============================] - 18s 194ms/step - loss: 0.1109 - accuracy: 0.9661 - val_loss: 0.2004 - val_accuracy: 0.9372\n",
      "Epoch 24/100\n",
      "92/92 [==============================] - 18s 194ms/step - loss: 0.1034 - accuracy: 0.9684 - val_loss: 0.2285 - val_accuracy: 0.9366: 0.099 - ETA: 2s\n",
      "Epoch 25/100\n",
      "92/92 [==============================] - 18s 195ms/step - loss: 0.1018 - accuracy: 0.9684 - val_loss: 0.2162 - val_accuracy: 0.9413\n",
      "Epoch 26/100\n",
      "92/92 [==============================] - 18s 194ms/step - loss: 0.0988 - accuracy: 0.9698 - val_loss: 0.2168 - val_accuracy: 0.9407\n",
      "Epoch 27/100\n",
      "92/92 [==============================] - 18s 194ms/step - loss: 0.0992 - accuracy: 0.9696 - val_loss: 0.2150 - val_accuracy: 0.9366\n",
      "Epoch 28/100\n",
      "92/92 [==============================] - 18s 194ms/step - loss: 0.0981 - accuracy: 0.9690 - val_loss: 0.2134 - val_accuracy: 0.94070981 - accuracy: 0.96\n",
      "Epoch 29/100\n",
      "92/92 [==============================] - 18s 191ms/step - loss: 0.0968 - accuracy: 0.9693 - val_loss: 0.2210 - val_accuracy: 0.9393\n",
      "Epoch 30/100\n",
      "92/92 [==============================] - 18s 196ms/step - loss: 0.0954 - accuracy: 0.9703 - val_loss: 0.2217 - val_accuracy: 0.9413\n",
      "Epoch 31/100\n",
      "92/92 [==============================] - 18s 194ms/step - loss: 0.0940 - accuracy: 0.9703 - val_loss: 0.2096 - val_accuracy: 0.9393\n",
      "Epoch 32/100\n",
      "92/92 [==============================] - 18s 195ms/step - loss: 0.0902 - accuracy: 0.9715 - val_loss: 0.2077 - val_accuracy: 0.9461\n",
      "Epoch 33/100\n",
      "92/92 [==============================] - 18s 194ms/step - loss: 0.0850 - accuracy: 0.9741 - val_loss: 0.2020 - val_accuracy: 0.9461\n",
      "Epoch 34/100\n",
      "92/92 [==============================] - 18s 200ms/step - loss: 0.0800 - accuracy: 0.9761 - val_loss: 0.1936 - val_accuracy: 0.9434\n",
      "Epoch 35/100\n",
      "92/92 [==============================] - 18s 193ms/step - loss: 0.0797 - accuracy: 0.9754 - val_loss: 0.2080 - val_accuracy: 0.9413\n",
      "Epoch 36/100\n",
      "92/92 [==============================] - 18s 191ms/step - loss: 0.0782 - accuracy: 0.9763 - val_loss: 0.2035 - val_accuracy: 0.9434\n",
      "Epoch 37/100\n",
      "92/92 [==============================] - 18s 194ms/step - loss: 0.0742 - accuracy: 0.9783 - val_loss: 0.2100 - val_accuracy: 0.9434\n",
      "Epoch 38/100\n",
      "92/92 [==============================] - 18s 194ms/step - loss: 0.0743 - accuracy: 0.9768 - val_loss: 0.2383 - val_accuracy: 0.9407\n",
      "Epoch 39/100\n",
      "92/92 [==============================] - 18s 194ms/step - loss: 0.0704 - accuracy: 0.9795 - val_loss: 0.2177 - val_accuracy: 0.9434\n",
      "Epoch 40/100\n",
      "92/92 [==============================] - 18s 196ms/step - loss: 0.0678 - accuracy: 0.9809 - val_loss: 0.2189 - val_accuracy: 0.9393\n",
      "Epoch 41/100\n",
      "92/92 [==============================] - 18s 194ms/step - loss: 0.0665 - accuracy: 0.9814 - val_loss: 0.2190 - val_accuracy: 0.9420\n",
      "Epoch 42/100\n",
      "92/92 [==============================] - 18s 193ms/step - loss: 0.0647 - accuracy: 0.9819 - val_loss: 0.1955 - val_accuracy: 0.9434\n",
      "Epoch 43/100\n",
      "92/92 [==============================] - 18s 196ms/step - loss: 0.0652 - accuracy: 0.9811 - val_loss: 0.1927 - val_accuracy: 0.9461\n",
      "Epoch 44/100\n",
      "92/92 [==============================] - 18s 194ms/step - loss: 0.0606 - accuracy: 0.9829 - val_loss: 0.2236 - val_accuracy: 0.9441\n",
      "Epoch 45/100\n",
      "92/92 [==============================] - 18s 193ms/step - loss: 0.0614 - accuracy: 0.9824 - val_loss: 0.2020 - val_accuracy: 0.9482\n",
      "Epoch 46/100\n",
      "92/92 [==============================] - 18s 194ms/step - loss: 0.0593 - accuracy: 0.9833 - val_loss: 0.2279 - val_accuracy: 0.9454\n",
      "Epoch 47/100\n",
      "92/92 [==============================] - 18s 195ms/step - loss: 0.0583 - accuracy: 0.9840 - val_loss: 0.1981 - val_accuracy: 0.9454\n",
      "Epoch 48/100\n",
      "92/92 [==============================] - 18s 194ms/step - loss: 0.0580 - accuracy: 0.9838 - val_loss: 0.2055 - val_accuracy: 0.9482\n",
      "Epoch 49/100\n",
      "92/92 [==============================] - 18s 191ms/step - loss: 0.0581 - accuracy: 0.9841 - val_loss: 0.2219 - val_accuracy: 0.9475\n",
      "Epoch 50/100\n",
      "92/92 [==============================] - 18s 195ms/step - loss: 0.0563 - accuracy: 0.9841 - val_loss: 0.2173 - val_accuracy: 0.9482\n",
      "Epoch 51/100\n",
      "92/92 [==============================] - 18s 193ms/step - loss: 0.0571 - accuracy: 0.9840 - val_loss: 0.2285 - val_accuracy: 0.9454\n",
      "Epoch 52/100\n",
      "92/92 [==============================] - 18s 194ms/step - loss: 0.0561 - accuracy: 0.9845 - val_loss: 0.2204 - val_accuracy: 0.9461\n",
      "Epoch 53/100\n",
      "92/92 [==============================] - 18s 195ms/step - loss: 0.0552 - accuracy: 0.9848 - val_loss: 0.2232 - val_accuracy: 0.9441\n",
      "Epoch 54/100\n",
      "92/92 [==============================] - 18s 194ms/step - loss: 0.0550 - accuracy: 0.9843 - val_loss: 0.2351 - val_accuracy: 0.9434\n",
      "Epoch 55/100\n",
      "92/92 [==============================] - 18s 192ms/step - loss: 0.0587 - accuracy: 0.9829 - val_loss: 0.2524 - val_accuracy: 0.9420\n",
      "Epoch 56/100\n",
      "92/92 [==============================] - 18s 191ms/step - loss: 0.0547 - accuracy: 0.9845 - val_loss: 0.2279 - val_accuracy: 0.9468\n"
     ]
    },
    {
     "name": "stdout",
     "output_type": "stream",
     "text": [
      "Epoch 57/100\n",
      "92/92 [==============================] - 18s 195ms/step - loss: 0.0533 - accuracy: 0.9852 - val_loss: 0.2356 - val_accuracy: 0.9447\n",
      "Epoch 58/100\n",
      "92/92 [==============================] - 18s 195ms/step - loss: 0.0530 - accuracy: 0.9850 - val_loss: 0.2355 - val_accuracy: 0.9461\n",
      "Epoch 59/100\n",
      "92/92 [==============================] - 18s 193ms/step - loss: 0.0543 - accuracy: 0.9848 - val_loss: 0.2120 - val_accuracy: 0.9523\n",
      "Epoch 60/100\n",
      "92/92 [==============================] - 18s 195ms/step - loss: 0.0539 - accuracy: 0.9848 - val_loss: 0.2227 - val_accuracy: 0.9468\n",
      "Epoch 61/100\n",
      "92/92 [==============================] - 18s 194ms/step - loss: 0.0528 - accuracy: 0.9852 - val_loss: 0.2484 - val_accuracy: 0.9454\n",
      "Epoch 62/100\n",
      "92/92 [==============================] - 18s 191ms/step - loss: 0.0538 - accuracy: 0.9857 - val_loss: 0.2186 - val_accuracy: 0.9393\n",
      "Epoch 63/100\n",
      "92/92 [==============================] - 17s 189ms/step - loss: 0.0526 - accuracy: 0.9853 - val_loss: 0.2064 - val_accuracy: 0.9509\n",
      "Epoch 64/100\n",
      "92/92 [==============================] - 17s 189ms/step - loss: 0.0523 - accuracy: 0.9857 - val_loss: 0.2189 - val_accuracy: 0.9482\n",
      "Epoch 65/100\n",
      "92/92 [==============================] - 18s 194ms/step - loss: 0.0527 - accuracy: 0.9857 - val_loss: 0.2180 - val_accuracy: 0.9468\n",
      "Epoch 66/100\n",
      "92/92 [==============================] - 18s 194ms/step - loss: 0.0512 - accuracy: 0.9858 - val_loss: 0.2274 - val_accuracy: 0.9482\n",
      "Epoch 67/100\n",
      "92/92 [==============================] - 18s 194ms/step - loss: 0.0517 - accuracy: 0.9857 - val_loss: 0.2327 - val_accuracy: 0.9447\n",
      "Epoch 68/100\n",
      "92/92 [==============================] - 18s 198ms/step - loss: 0.0592 - accuracy: 0.9826 - val_loss: 0.2029 - val_accuracy: 0.9447\n",
      "Epoch 69/100\n",
      "92/92 [==============================] - 18s 194ms/step - loss: 0.0503 - accuracy: 0.9862 - val_loss: 0.2045 - val_accuracy: 0.9529\n",
      "Epoch 70/100\n",
      "92/92 [==============================] - 18s 191ms/step - loss: 0.0511 - accuracy: 0.9858 - val_loss: 0.1967 - val_accuracy: 0.9516\n",
      "Epoch 71/100\n",
      "92/92 [==============================] - 18s 193ms/step - loss: 0.0496 - accuracy: 0.9862 - val_loss: 0.1981 - val_accuracy: 0.9509\n",
      "Epoch 72/100\n",
      "92/92 [==============================] - 18s 194ms/step - loss: 0.0515 - accuracy: 0.9860 - val_loss: 0.1962 - val_accuracy: 0.9516\n",
      "Epoch 73/100\n",
      "92/92 [==============================] - 18s 194ms/step - loss: 0.0477 - accuracy: 0.9870 - val_loss: 0.1951 - val_accuracy: 0.9523\n",
      "Epoch 74/100\n",
      "92/92 [==============================] - 18s 193ms/step - loss: 0.0469 - accuracy: 0.9870 - val_loss: 0.2161 - val_accuracy: 0.9523\n",
      "Epoch 75/100\n",
      "92/92 [==============================] - 18s 192ms/step - loss: 0.0471 - accuracy: 0.9874 - val_loss: 0.2148 - val_accuracy: 0.9523\n",
      "Epoch 76/100\n",
      "92/92 [==============================] - 17s 188ms/step - loss: 0.0480 - accuracy: 0.9865 - val_loss: 0.2108 - val_accuracy: 0.9509\n",
      "Epoch 77/100\n",
      "92/92 [==============================] - 18s 192ms/step - loss: 0.0461 - accuracy: 0.9872 - val_loss: 0.2112 - val_accuracy: 0.9523\n",
      "Epoch 78/100\n",
      "92/92 [==============================] - 18s 193ms/step - loss: 0.0458 - accuracy: 0.9875 - val_loss: 0.2042 - val_accuracy: 0.9536\n"
     ]
    }
   ],
   "source": [
    "#unbalanced -> calculate balance weights\n",
    "class_weights_assignment = dict(zip(np.unique(y1_train), class_weight.compute_class_weight('balanced',np.unique(y1_train),np.ravel(y1_train)))) \n",
    "print(\"class_weights:\", class_weights_assignment)\n",
    "\n",
    "# LSTM voor Y1_TRAIN\n",
    "#adam = tf.keras.optimizers.Adam(lr=0.0001, momentum=0.9, decay=0.01)\n",
    "adam = tf.keras.optimizers.Adam(learning_rate=0.00001)\n",
    "# Model checkpoint\n",
    "checkpoint_filepath = './LSTM_bestmodel.h5'\n",
    "mc = tf.keras.callbacks.ModelCheckpoint(filepath = checkpoint_filepath,save_weights_only=True, monitor='val_loss',mode='auto',save_best_only=True)\n",
    "# Early stopping\n",
    "es = EarlyStopping(monitor='val_loss', mode='min', verbose=0, patience = 35)\n",
    "# model\n",
    "input_mc = Input(shape=(400))\n",
    "input_af = Input(shape=(200))\n",
    "input_ac = Input(shape=(500))\n",
    "model = Sequential()\n",
    "\n",
    "embeding_mc=Embedding(MAX_NB_WORDS, EMBEDDING_DIM,input_length=X_train_mc.shape[1])(input_mc)\n",
    "embeding_af=Embedding(MAX_NB_WORDS, EMBEDDING_DIM,input_length=X_train_af.shape[1])(input_af)\n",
    "embeding_ac=Embedding(MAX_NB_WORDS, EMBEDDING_DIM,input_length=X_train_ac.shape[1])(input_ac)\n",
    "\n",
    "s_mc=SpatialDropout1D(0.5)(embeding_mc)\n",
    "o_mc=LSTM(32, dropout=0.4)(s_mc)\n",
    "s_af=SpatialDropout1D(0.5)(embeding_af)\n",
    "o_af=LSTM(32, dropout=0.4)(s_af)\n",
    "s_ac=SpatialDropout1D(0.5)(embeding_ac)\n",
    "o_ac=LSTM(32, dropout=0.4)(s_ac)\n",
    "\n",
    "concat_layer = Concatenate()([o_mc, o_af,o_ac])\n",
    "\n",
    "r=Dense(16, activation='relu')(concat_layer)\n",
    "\n",
    "r1=Dense(8, activation='relu')(r)\n",
    "r2=Dense(4, activation='relu')(r1)\n",
    "\n",
    "\n",
    "\n",
    "lstm1 = Dense(2, activation='softmax')(r2)\n",
    "\n",
    "model = Model(inputs=[input_mc,input_af,input_ac], outputs=[lstm1])\n",
    "model.compile(loss='sparse_categorical_crossentropy', optimizer='adam', metrics=['accuracy'])\n",
    "history = model.fit([X_train_mc,X_train_af,X_train_ac], y1_train, validation_split=0.2,class_weight=class_weights_assignment, epochs=100,verbose=1,batch_size=64,callbacks=[es,mc])"
   ]
  },
  {
   "cell_type": "code",
   "execution_count": 129,
   "metadata": {
    "colab": {
     "base_uri": "https://localhost:8080/",
     "height": 281
    },
    "id": "F6N8iOY-voAn",
    "outputId": "c4c8ce27-f4af-4ae3-9bed-220eda89b20a"
   },
   "outputs": [
    {
     "data": {
      "image/png": "[encoded data removed]",
      "text/plain": [
       "<Figure size 432x288 with 1 Axes>"
      ]
     },
     "metadata": {
      "needs_background": "light"
     },
     "output_type": "display_data"
    }
   ],
   "source": [
    "plt.title('Loss')\n",
    "plt.plot(history.history['loss'], label='train')\n",
    "plt.plot(history.history['val_loss'], label='test')\n",
    "plt.legend()\n",
    "plt.show();"
   ]
  },
  {
   "cell_type": "code",
   "execution_count": 130,
   "metadata": {},
   "outputs": [
    {
     "data": {
      "image/png": "[encoded data removed]",
      "text/plain": [
       "<Figure size 432x288 with 1 Axes>"
      ]
     },
     "metadata": {
      "needs_background": "light"
     },
     "output_type": "display_data"
    }
   ],
   "source": [
    "plt.title('Accuracy')\n",
    "plt.plot(history.history['accuracy'], label='train')\n",
    "plt.plot(history.history['val_accuracy'], label='test')\n",
    "plt.legend()\n",
    "plt.show();"
   ]
  },
  {
   "cell_type": "markdown",
   "metadata": {},
   "source": [
    "### Voorspellen van labels.case_type"
   ]
  },
  {
   "cell_type": "code",
   "execution_count": 122,
   "metadata": {
    "id": "9eoDWD7vHzFZ"
   },
   "outputs": [
    {
     "name": "stdout",
     "output_type": "stream",
     "text": [
      "Epoch 1/100\n",
      "92/92 [==============================] - 20s 220ms/step - loss: 0.6325 - accuracy: 0.6047 - val_loss: 0.6786 - val_accuracy: 0.6023\n",
      "Epoch 2/100\n",
      "92/92 [==============================] - 18s 194ms/step - loss: 0.4246 - accuracy: 0.7021 - val_loss: 0.5392 - val_accuracy: 0.7749\n",
      "Epoch 3/100\n",
      "92/92 [==============================] - 18s 191ms/step - loss: 0.3213 - accuracy: 0.7886 - val_loss: 0.4271 - val_accuracy: 0.8117\n",
      "Epoch 4/100\n",
      "92/92 [==============================] - 18s 191ms/step - loss: 0.2671 - accuracy: 0.8419 - val_loss: 0.3776 - val_accuracy: 0.8383\n",
      "Epoch 5/100\n",
      "92/92 [==============================] - 18s 191ms/step - loss: 0.2125 - accuracy: 0.8821 - val_loss: 0.2964 - val_accuracy: 0.8997\n",
      "Epoch 6/100\n",
      "92/92 [==============================] - 18s 196ms/step - loss: 0.1534 - accuracy: 0.9197 - val_loss: 0.2049 - val_accuracy: 0.9413\n",
      "Epoch 7/100\n",
      "92/92 [==============================] - 18s 197ms/step - loss: 0.1045 - accuracy: 0.9509 - val_loss: 0.1778 - val_accuracy: 0.9468\n",
      "Epoch 8/100\n",
      "92/92 [==============================] - 18s 198ms/step - loss: 0.0969 - accuracy: 0.9594 - val_loss: 0.1634 - val_accuracy: 0.9502\n",
      "Epoch 9/100\n",
      "92/92 [==============================] - 18s 199ms/step - loss: 0.0634 - accuracy: 0.9768 - val_loss: 0.1132 - val_accuracy: 0.9659\n",
      "Epoch 10/100\n",
      "92/92 [==============================] - 18s 198ms/step - loss: 0.0494 - accuracy: 0.9821 - val_loss: 0.1030 - val_accuracy: 0.9686\n",
      "Epoch 11/100\n",
      "92/92 [==============================] - 18s 194ms/step - loss: 0.0411 - accuracy: 0.9858 - val_loss: 0.1036 - val_accuracy: 0.9679\n",
      "Epoch 12/100\n",
      "92/92 [==============================] - 18s 195ms/step - loss: 0.0354 - accuracy: 0.9869 - val_loss: 0.0917 - val_accuracy: 0.9734\n",
      "Epoch 13/100\n",
      "92/92 [==============================] - 18s 198ms/step - loss: 0.0315 - accuracy: 0.9886 - val_loss: 0.0819 - val_accuracy: 0.9748\n",
      "Epoch 14/100\n",
      "92/92 [==============================] - 18s 197ms/step - loss: 0.0254 - accuracy: 0.9925 - val_loss: 0.0806 - val_accuracy: 0.9700\n",
      "Epoch 15/100\n",
      "92/92 [==============================] - 19s 202ms/step - loss: 0.0223 - accuracy: 0.9933 - val_loss: 0.0835 - val_accuracy: 0.9775\n",
      "Epoch 16/100\n",
      "92/92 [==============================] - 19s 202ms/step - loss: 0.0204 - accuracy: 0.9937 - val_loss: 0.0748 - val_accuracy: 0.9754\n",
      "Epoch 17/100\n",
      "92/92 [==============================] - 18s 198ms/step - loss: 0.0188 - accuracy: 0.9951 - val_loss: 0.0695 - val_accuracy: 0.9775\n",
      "Epoch 18/100\n",
      "92/92 [==============================] - 18s 192ms/step - loss: 0.0182 - accuracy: 0.9947 - val_loss: 0.0644 - val_accuracy: 0.9795\n",
      "Epoch 19/100\n",
      "92/92 [==============================] - 18s 199ms/step - loss: 0.0147 - accuracy: 0.9957 - val_loss: 0.0658 - val_accuracy: 0.9802\n",
      "Epoch 20/100\n",
      "92/92 [==============================] - 18s 199ms/step - loss: 0.0130 - accuracy: 0.9976 - val_loss: 0.0690 - val_accuracy: 0.9795\n",
      "Epoch 21/100\n",
      "92/92 [==============================] - 18s 197ms/step - loss: 0.0125 - accuracy: 0.9962 - val_loss: 0.0654 - val_accuracy: 0.9795\n",
      "Epoch 22/100\n",
      "92/92 [==============================] - 18s 197ms/step - loss: 0.0114 - accuracy: 0.9973 - val_loss: 0.0746 - val_accuracy: 0.9795\n",
      "Epoch 23/100\n",
      "92/92 [==============================] - 18s 199ms/step - loss: 0.0110 - accuracy: 0.9978 - val_loss: 0.0782 - val_accuracy: 0.9809\n",
      "Epoch 24/100\n",
      "92/92 [==============================] - 18s 196ms/step - loss: 0.0082 - accuracy: 0.9981 - val_loss: 0.0634 - val_accuracy: 0.9836\n",
      "Epoch 25/100\n",
      "92/92 [==============================] - 18s 195ms/step - loss: 0.0082 - accuracy: 0.9983 - val_loss: 0.0638 - val_accuracy: 0.9829\n",
      "Epoch 26/100\n",
      "92/92 [==============================] - 19s 203ms/step - loss: 0.0083 - accuracy: 0.9980 - val_loss: 0.0636 - val_accuracy: 0.9823\n",
      "Epoch 27/100\n",
      "92/92 [==============================] - 19s 212ms/step - loss: 0.0073 - accuracy: 0.9988 - val_loss: 0.0628 - val_accuracy: 0.9816\n",
      "Epoch 28/100\n",
      "92/92 [==============================] - 18s 200ms/step - loss: 0.0071 - accuracy: 0.9990 - val_loss: 0.0860 - val_accuracy: 0.9789\n",
      "Epoch 29/100\n",
      "92/92 [==============================] - 19s 208ms/step - loss: 0.0072 - accuracy: 0.9988 - val_loss: 0.0665 - val_accuracy: 0.9843\n",
      "Epoch 30/100\n",
      "92/92 [==============================] - 19s 203ms/step - loss: 0.0054 - accuracy: 0.9997 - val_loss: 0.0763 - val_accuracy: 0.9836\n",
      "Epoch 31/100\n",
      "92/92 [==============================] - 19s 203ms/step - loss: 0.0055 - accuracy: 0.9997 - val_loss: 0.0925 - val_accuracy: 0.9795\n",
      "Epoch 32/100\n",
      "92/92 [==============================] - 19s 207ms/step - loss: 0.0072 - accuracy: 0.9985 - val_loss: 0.0717 - val_accuracy: 0.9809\n",
      "Epoch 33/100\n",
      "92/92 [==============================] - 19s 209ms/step - loss: 0.0080 - accuracy: 0.9980 - val_loss: 0.0717 - val_accuracy: 0.9829\n",
      "Epoch 34/100\n",
      "92/92 [==============================] - 19s 211ms/step - loss: 0.0070 - accuracy: 0.9978 - val_loss: 0.0694 - val_accuracy: 0.9836\n",
      "Epoch 35/100\n",
      "92/92 [==============================] - 20s 219ms/step - loss: 0.0051 - accuracy: 0.9991 - val_loss: 0.0706 - val_accuracy: 0.9843\n",
      "Epoch 36/100\n",
      "92/92 [==============================] - 20s 219ms/step - loss: 0.0049 - accuracy: 0.9991 - val_loss: 0.0804 - val_accuracy: 0.9816\n",
      "Epoch 37/100\n",
      "92/92 [==============================] - 19s 212ms/step - loss: 0.0041 - accuracy: 0.9995 - val_loss: 0.1098 - val_accuracy: 0.9768\n",
      "Epoch 38/100\n",
      "92/92 [==============================] - 20s 217ms/step - loss: 0.0053 - accuracy: 0.9990 - val_loss: 0.1013 - val_accuracy: 0.9782\n",
      "Epoch 39/100\n",
      "92/92 [==============================] - 19s 211ms/step - loss: 0.0046 - accuracy: 0.9993 - val_loss: 0.0718 - val_accuracy: 0.9836\n",
      "Epoch 40/100\n",
      "92/92 [==============================] - 19s 210ms/step - loss: 0.0068 - accuracy: 0.9983 - val_loss: 0.0737 - val_accuracy: 0.9823\n",
      "Epoch 41/100\n",
      "92/92 [==============================] - 19s 210ms/step - loss: 0.0068 - accuracy: 0.9981 - val_loss: 0.0759 - val_accuracy: 0.9829\n",
      "Epoch 42/100\n",
      "92/92 [==============================] - 19s 211ms/step - loss: 0.0047 - accuracy: 0.9991 - val_loss: 0.0838 - val_accuracy: 0.9823\n",
      "Epoch 43/100\n",
      "92/92 [==============================] - 19s 206ms/step - loss: 0.0040 - accuracy: 0.9997 - val_loss: 0.0763 - val_accuracy: 0.9823\n",
      "Epoch 44/100\n",
      "92/92 [==============================] - 19s 208ms/step - loss: 0.0034 - accuracy: 0.9997 - val_loss: 0.0724 - val_accuracy: 0.9843\n",
      "Epoch 45/100\n",
      "92/92 [==============================] - 20s 215ms/step - loss: 0.0035 - accuracy: 0.9997 - val_loss: 0.1061 - val_accuracy: 0.9754\n",
      "Epoch 46/100\n",
      "92/92 [==============================] - 19s 212ms/step - loss: 0.0040 - accuracy: 0.9991 - val_loss: 0.0882 - val_accuracy: 0.9816\n",
      "Epoch 47/100\n",
      "92/92 [==============================] - 20s 215ms/step - loss: 0.0032 - accuracy: 0.9997 - val_loss: 0.0764 - val_accuracy: 0.9836\n",
      "Epoch 48/100\n",
      "92/92 [==============================] - 19s 207ms/step - loss: 0.0026 - accuracy: 0.9998 - val_loss: 0.0761 - val_accuracy: 0.9836\n",
      "Epoch 49/100\n",
      "92/92 [==============================] - 19s 206ms/step - loss: 0.0029 - accuracy: 0.9998 - val_loss: 0.0752 - val_accuracy: 0.9843\n",
      "Epoch 50/100\n",
      "92/92 [==============================] - 19s 206ms/step - loss: 0.0029 - accuracy: 0.9995 - val_loss: 0.0731 - val_accuracy: 0.9857\n",
      "Epoch 51/100\n",
      "92/92 [==============================] - 19s 207ms/step - loss: 0.0027 - accuracy: 0.9998 - val_loss: 0.0979 - val_accuracy: 0.9809\n",
      "Epoch 52/100\n",
      "92/92 [==============================] - 19s 208ms/step - loss: 0.0023 - accuracy: 0.9997 - val_loss: 0.1284 - val_accuracy: 0.9775\n",
      "Epoch 53/100\n",
      "92/92 [==============================] - 19s 210ms/step - loss: 0.0026 - accuracy: 0.9993 - val_loss: 0.0830 - val_accuracy: 0.9836\n",
      "Epoch 54/100\n",
      "92/92 [==============================] - 19s 210ms/step - loss: 0.0019 - accuracy: 0.9998 - val_loss: 0.0797 - val_accuracy: 0.9843\n",
      "Epoch 55/100\n",
      "92/92 [==============================] - 19s 206ms/step - loss: 0.0020 - accuracy: 0.9998 - val_loss: 0.0970 - val_accuracy: 0.9829\n",
      "Epoch 56/100\n",
      "92/92 [==============================] - 19s 205ms/step - loss: 0.0024 - accuracy: 0.9993 - val_loss: 0.0778 - val_accuracy: 0.9850\n",
      "Epoch 57/100\n"
     ]
    },
    {
     "name": "stdout",
     "output_type": "stream",
     "text": [
      "92/92 [==============================] - 21s 224ms/step - loss: 0.0034 - accuracy: 0.9991 - val_loss: 0.0688 - val_accuracy: 0.9850\n",
      "Epoch 58/100\n",
      "92/92 [==============================] - 21s 230ms/step - loss: 0.0029 - accuracy: 0.9993 - val_loss: 0.0758 - val_accuracy: 0.9829\n",
      "Epoch 59/100\n",
      "92/92 [==============================] - 19s 212ms/step - loss: 0.0027 - accuracy: 0.9993 - val_loss: 0.0753 - val_accuracy: 0.9857\n",
      "Epoch 60/100\n",
      "92/92 [==============================] - 19s 208ms/step - loss: 0.0018 - accuracy: 0.9997 - val_loss: 0.1088 - val_accuracy: 0.9782\n",
      "Epoch 61/100\n",
      "92/92 [==============================] - 19s 210ms/step - loss: 0.0020 - accuracy: 0.9995 - val_loss: 0.1066 - val_accuracy: 0.9775\n",
      "Epoch 62/100\n",
      "92/92 [==============================] - 19s 210ms/step - loss: 0.0020 - accuracy: 0.9997 - val_loss: 0.0963 - val_accuracy: 0.9802\n",
      "Epoch 00062: early stopping\n"
     ]
    }
   ],
   "source": [
    "# LSTM voor Y2_TRAIN\n",
    "#adam = tf.keras.optimizers.Adam(lr=0.0001, momentum=0.9, decay=0.01)\n",
    "adam = tf.keras.optimizers.Adam(learning_rate=0.0001)\n",
    "# Model checkpoint\n",
    "checkpoint_filepath = './LSTM_bestmodel.h5'\n",
    "mc = tf.keras.callbacks.ModelCheckpoint(filepath = checkpoint_filepath,save_weights_only=True, monitor='val_loss',mode='auto',save_best_only=True)\n",
    "# Early stopping\n",
    "es = EarlyStopping(monitor='val_loss', mode='min', verbose=1, patience = 35)\n",
    "# model\n",
    "input_mc = Input(shape=(400))\n",
    "input_af = Input(shape=(200))\n",
    "input_ac = Input(shape=(500))\n",
    "\n",
    "model = Sequential()\n",
    "\n",
    "embeding_mc=Embedding(MAX_NB_WORDS, EMBEDDING_DIM,input_length=X_train_mc.shape[1])(input_mc)\n",
    "embeding_af=Embedding(MAX_NB_WORDS, EMBEDDING_DIM,input_length=X_train_af.shape[1])(input_af)\n",
    "embeding_ac=Embedding(MAX_NB_WORDS, EMBEDDING_DIM,input_length=X_train_ac.shape[1])(input_ac)\n",
    "\n",
    "s_mc=SpatialDropout1D(0.4)(embeding_mc)\n",
    "o_mc=LSTM(64, dropout=0.4)(s_mc)\n",
    "s_af=SpatialDropout1D(0.4)(embeding_af)\n",
    "o_af=LSTM(64, dropout=0.4)(s_af)\n",
    "s_ac=SpatialDropout1D(0.4)(embeding_ac)\n",
    "o_ac=LSTM(64, dropout=0.4)(s_ac)\n",
    "\n",
    "concat_layer = Concatenate()([o_mc, o_af,o_ac])\n",
    "\n",
    "\n",
    "r=Dense(32, activation='relu')(concat_layer)\n",
    "r1=Dense(16, activation='relu')(r)\n",
    "r2=Dense(8, activation ='relu')(r1)\n",
    "r3=Dense(4, activation='relu')(r2)\n",
    "\n",
    "lstm1 = Dense(3, activation='softmax')(r3)\n",
    "\n",
    "model = Model(inputs=[input_mc,input_af,input_ac], outputs=[lstm1])\n",
    "model.compile(loss='sparse_categorical_crossentropy', optimizer=adam, metrics=['accuracy'])\n",
    "history = model.fit([X_train_mc,X_train_af,X_train_ac], y2_train, validation_split=0.2, epochs=100,verbose=1,batch_size=64,callbacks=[es], class_weight={0: 0.8066606840163526, 1: 0.5681977805871611, 2: 2.6666666666665})"
   ]
  },
  {
   "cell_type": "code",
   "execution_count": 123,
   "metadata": {
    "colab": {
     "base_uri": "https://localhost:8080/",
     "height": 281
    },
    "id": "m__P3aNdvoAp",
    "outputId": "dccd41da-a0b4-446e-f65d-1c2de96e2480"
   },
   "outputs": [
    {
     "data": {
      "image/png": "[encoded data removed]",
      "text/plain": [
       "<Figure size 432x288 with 1 Axes>"
      ]
     },
     "metadata": {
      "needs_background": "light"
     },
     "output_type": "display_data"
    }
   ],
   "source": [
    "plt.title('Loss')\n",
    "plt.plot(history.history['loss'], label='train')\n",
    "plt.plot(history.history['val_loss'], label='test')\n",
    "plt.legend()\n",
    "plt.show();"
   ]
  },
  {
   "cell_type": "code",
   "execution_count": 124,
   "metadata": {
    "colab": {
     "base_uri": "https://localhost:8080/",
     "height": 281
    },
    "id": "5CsqkTUXvoAp",
    "outputId": "d6f541aa-84ff-4efc-cb59-88eb852f941d"
   },
   "outputs": [
    {
     "data": {
      "image/png": "[encoded data removed]",
      "text/plain": [
       "<Figure size 432x288 with 1 Axes>"
      ]
     },
     "metadata": {
      "needs_background": "light"
     },
     "output_type": "display_data"
    }
   ],
   "source": [
    "plt.title('Accuracy')\n",
    "plt.plot(history.history['accuracy'], label='train')\n",
    "plt.plot(history.history['val_accuracy'], label='test')\n",
    "plt.legend()\n",
    "plt.show();"
   ]
  },
  {
   "cell_type": "markdown",
   "metadata": {},
   "source": [
    "### Voorspellen van labels.sub_case_type"
   ]
  },
  {
   "cell_type": "code",
   "execution_count": 125,
   "metadata": {
    "id": "2xgjbBh9voAp"
   },
   "outputs": [
    {
     "name": "stdout",
     "output_type": "stream",
     "text": [
      "Epoch 1/100\n",
      "92/92 [==============================] - 21s 225ms/step - loss: 1.0182 - accuracy: 0.4297 - val_loss: 1.7081 - val_accuracy: 0.6910\n",
      "Epoch 2/100\n",
      "92/92 [==============================] - 18s 198ms/step - loss: 0.9603 - accuracy: 0.6921 - val_loss: 1.3560 - val_accuracy: 0.7292\n",
      "Epoch 3/100\n",
      "92/92 [==============================] - 18s 196ms/step - loss: 0.8882 - accuracy: 0.7074 - val_loss: 1.1743 - val_accuracy: 0.7012\n",
      "Epoch 4/100\n",
      "92/92 [==============================] - 18s 197ms/step - loss: 0.8342 - accuracy: 0.7405 - val_loss: 1.0847 - val_accuracy: 0.7517\n",
      "Epoch 5/100\n",
      "92/92 [==============================] - 18s 194ms/step - loss: 0.7719 - accuracy: 0.8013 - val_loss: 0.9228 - val_accuracy: 0.8124\n",
      "Epoch 6/100\n",
      "92/92 [==============================] - 18s 196ms/step - loss: 0.7000 - accuracy: 0.8327 - val_loss: 0.8320 - val_accuracy: 0.8302\n",
      "Epoch 7/100\n",
      "92/92 [==============================] - 19s 202ms/step - loss: 0.6367 - accuracy: 0.8454 - val_loss: 0.7004 - val_accuracy: 0.8431\n",
      "Epoch 8/100\n",
      "92/92 [==============================] - 18s 195ms/step - loss: 0.5735 - accuracy: 0.8589 - val_loss: 0.6322 - val_accuracy: 0.8533\n",
      "Epoch 9/100\n",
      "92/92 [==============================] - 18s 195ms/step - loss: 0.5302 - accuracy: 0.8680 - val_loss: 0.5773 - val_accuracy: 0.8554\n",
      "Epoch 10/100\n",
      "92/92 [==============================] - 18s 195ms/step - loss: 0.4808 - accuracy: 0.8738 - val_loss: 0.5311 - val_accuracy: 0.8629\n",
      "Epoch 11/100\n",
      "92/92 [==============================] - 18s 192ms/step - loss: 0.4474 - accuracy: 0.8814 - val_loss: 0.5098 - val_accuracy: 0.8643\n",
      "Epoch 12/100\n",
      "92/92 [==============================] - 17s 190ms/step - loss: 0.4132 - accuracy: 0.8929 - val_loss: 0.4816 - val_accuracy: 0.8745\n",
      "Epoch 13/100\n",
      "92/92 [==============================] - 18s 196ms/step - loss: 0.3840 - accuracy: 0.8976 - val_loss: 0.4472 - val_accuracy: 0.8779\n",
      "Epoch 14/100\n",
      "92/92 [==============================] - 18s 198ms/step - loss: 0.3594 - accuracy: 0.9062 - val_loss: 0.4414 - val_accuracy: 0.8834\n",
      "Epoch 15/100\n",
      "92/92 [==============================] - 18s 200ms/step - loss: 0.3327 - accuracy: 0.9084 - val_loss: 0.4317 - val_accuracy: 0.8772\n",
      "Epoch 16/100\n",
      "92/92 [==============================] - 18s 201ms/step - loss: 0.3210 - accuracy: 0.9152 - val_loss: 0.3942 - val_accuracy: 0.8861\n",
      "Epoch 17/100\n",
      "92/92 [==============================] - 18s 195ms/step - loss: 0.2921 - accuracy: 0.9207 - val_loss: 0.3824 - val_accuracy: 0.8881\n",
      "Epoch 18/100\n",
      "92/92 [==============================] - 18s 193ms/step - loss: 0.2716 - accuracy: 0.9270 - val_loss: 0.3787 - val_accuracy: 0.8881\n",
      "Epoch 19/100\n",
      "92/92 [==============================] - 18s 198ms/step - loss: 0.2556 - accuracy: 0.9326 - val_loss: 0.3662 - val_accuracy: 0.8888\n",
      "Epoch 20/100\n",
      "92/92 [==============================] - 19s 202ms/step - loss: 0.2357 - accuracy: 0.9352 - val_loss: 0.3658 - val_accuracy: 0.8854\n",
      "Epoch 21/100\n",
      "92/92 [==============================] - 19s 207ms/step - loss: 0.2172 - accuracy: 0.9400 - val_loss: 0.3672 - val_accuracy: 0.8963\n",
      "Epoch 22/100\n",
      "92/92 [==============================] - 19s 201ms/step - loss: 0.1990 - accuracy: 0.9434 - val_loss: 0.3589 - val_accuracy: 0.8977\n",
      "Epoch 23/100\n",
      "92/92 [==============================] - 18s 200ms/step - loss: 0.1792 - accuracy: 0.9538 - val_loss: 0.3668 - val_accuracy: 0.8977\n",
      "Epoch 24/100\n",
      "92/92 [==============================] - 18s 196ms/step - loss: 0.1630 - accuracy: 0.9568 - val_loss: 0.3343 - val_accuracy: 0.9065\n",
      "Epoch 25/100\n",
      "92/92 [==============================] - 18s 195ms/step - loss: 0.1493 - accuracy: 0.9579 - val_loss: 0.3259 - val_accuracy: 0.9065\n",
      "Epoch 26/100\n",
      "92/92 [==============================] - 18s 199ms/step - loss: 0.1322 - accuracy: 0.9616 - val_loss: 0.3289 - val_accuracy: 0.9100\n",
      "Epoch 27/100\n",
      "92/92 [==============================] - 18s 201ms/step - loss: 0.1198 - accuracy: 0.9642 - val_loss: 0.3155 - val_accuracy: 0.9127\n",
      "Epoch 28/100\n",
      "92/92 [==============================] - 18s 200ms/step - loss: 0.1142 - accuracy: 0.9672 - val_loss: 0.3221 - val_accuracy: 0.9120\n",
      "Epoch 29/100\n",
      "92/92 [==============================] - 18s 199ms/step - loss: 0.1048 - accuracy: 0.9690 - val_loss: 0.3080 - val_accuracy: 0.9134\n",
      "Epoch 30/100\n",
      "92/92 [==============================] - 18s 199ms/step - loss: 0.0978 - accuracy: 0.9684 - val_loss: 0.3145 - val_accuracy: 0.9093\n",
      "Epoch 31/100\n",
      "92/92 [==============================] - 18s 194ms/step - loss: 0.0901 - accuracy: 0.9708 - val_loss: 0.3019 - val_accuracy: 0.9154\n",
      "Epoch 32/100\n",
      "92/92 [==============================] - 18s 196ms/step - loss: 0.0874 - accuracy: 0.9725 - val_loss: 0.3211 - val_accuracy: 0.9134\n",
      "Epoch 33/100\n",
      "92/92 [==============================] - 18s 200ms/step - loss: 0.0813 - accuracy: 0.9742 - val_loss: 0.3139 - val_accuracy: 0.9100\n",
      "Epoch 34/100\n",
      "92/92 [==============================] - 18s 198ms/step - loss: 0.0731 - accuracy: 0.9759 - val_loss: 0.2968 - val_accuracy: 0.9181\n",
      "Epoch 35/100\n",
      "92/92 [==============================] - 19s 202ms/step - loss: 0.0742 - accuracy: 0.9765 - val_loss: 0.3011 - val_accuracy: 0.9134\n",
      "Epoch 36/100\n",
      "92/92 [==============================] - 18s 199ms/step - loss: 0.0653 - accuracy: 0.9785 - val_loss: 0.3013 - val_accuracy: 0.9195\n",
      "Epoch 37/100\n",
      "92/92 [==============================] - 18s 199ms/step - loss: 0.0634 - accuracy: 0.9785 - val_loss: 0.3188 - val_accuracy: 0.9168\n",
      "Epoch 38/100\n",
      "92/92 [==============================] - 19s 205ms/step - loss: 0.0542 - accuracy: 0.9836 - val_loss: 0.2970 - val_accuracy: 0.9202\n",
      "Epoch 39/100\n",
      "92/92 [==============================] - 18s 197ms/step - loss: 0.0565 - accuracy: 0.9819 - val_loss: 0.2899 - val_accuracy: 0.9181\n",
      "Epoch 40/100\n",
      "92/92 [==============================] - 18s 195ms/step - loss: 0.0513 - accuracy: 0.9845 - val_loss: 0.2960 - val_accuracy: 0.9222\n",
      "Epoch 41/100\n",
      "92/92 [==============================] - 19s 202ms/step - loss: 0.0484 - accuracy: 0.9858 - val_loss: 0.2977 - val_accuracy: 0.9222\n",
      "Epoch 42/100\n",
      "92/92 [==============================] - 18s 196ms/step - loss: 0.0476 - accuracy: 0.9860 - val_loss: 0.2952 - val_accuracy: 0.9216\n",
      "Epoch 43/100\n",
      "92/92 [==============================] - 18s 197ms/step - loss: 0.0453 - accuracy: 0.9857 - val_loss: 0.3336 - val_accuracy: 0.9195\n",
      "Epoch 44/100\n",
      "92/92 [==============================] - 18s 195ms/step - loss: 0.0427 - accuracy: 0.9869 - val_loss: 0.3097 - val_accuracy: 0.9250\n",
      "Epoch 45/100\n",
      "92/92 [==============================] - 18s 196ms/step - loss: 0.0441 - accuracy: 0.9858 - val_loss: 0.3095 - val_accuracy: 0.9216\n",
      "Epoch 46/100\n",
      "92/92 [==============================] - 18s 194ms/step - loss: 0.0375 - accuracy: 0.9893 - val_loss: 0.3041 - val_accuracy: 0.9202\n",
      "Epoch 47/100\n",
      "92/92 [==============================] - 18s 195ms/step - loss: 0.0387 - accuracy: 0.9881 - val_loss: 0.3057 - val_accuracy: 0.9222\n",
      "Epoch 48/100\n",
      "92/92 [==============================] - 18s 197ms/step - loss: 0.0344 - accuracy: 0.9893 - val_loss: 0.3204 - val_accuracy: 0.9209\n",
      "Epoch 49/100\n",
      "92/92 [==============================] - 18s 198ms/step - loss: 0.0362 - accuracy: 0.9874 - val_loss: 0.2996 - val_accuracy: 0.9250\n",
      "Epoch 50/100\n",
      "92/92 [==============================] - 18s 196ms/step - loss: 0.0328 - accuracy: 0.9908 - val_loss: 0.3166 - val_accuracy: 0.9209\n",
      "Epoch 51/100\n",
      "92/92 [==============================] - 18s 198ms/step - loss: 0.0348 - accuracy: 0.9886 - val_loss: 0.3365 - val_accuracy: 0.9229\n",
      "Epoch 52/100\n",
      "92/92 [==============================] - 18s 195ms/step - loss: 0.0319 - accuracy: 0.9910 - val_loss: 0.3208 - val_accuracy: 0.9222\n",
      "Epoch 53/100\n",
      "92/92 [==============================] - 18s 195ms/step - loss: 0.0293 - accuracy: 0.9918 - val_loss: 0.3000 - val_accuracy: 0.9229\n",
      "Epoch 54/100\n",
      "92/92 [==============================] - 18s 196ms/step - loss: 0.0275 - accuracy: 0.9913 - val_loss: 0.3140 - val_accuracy: 0.9256\n",
      "Epoch 55/100\n",
      "92/92 [==============================] - 18s 196ms/step - loss: 0.0269 - accuracy: 0.9916 - val_loss: 0.3163 - val_accuracy: 0.9209\n",
      "Epoch 56/100\n",
      "92/92 [==============================] - 18s 197ms/step - loss: 0.0270 - accuracy: 0.9915 - val_loss: 0.3022 - val_accuracy: 0.9202\n",
      "Epoch 57/100\n"
     ]
    },
    {
     "name": "stdout",
     "output_type": "stream",
     "text": [
      "92/92 [==============================] - 18s 199ms/step - loss: 0.0279 - accuracy: 0.9916 - val_loss: 0.3041 - val_accuracy: 0.9222\n",
      "Epoch 58/100\n",
      "92/92 [==============================] - 18s 198ms/step - loss: 0.0227 - accuracy: 0.9927 - val_loss: 0.3270 - val_accuracy: 0.9188\n",
      "Epoch 59/100\n",
      "92/92 [==============================] - 18s 194ms/step - loss: 0.0229 - accuracy: 0.9933 - val_loss: 0.3258 - val_accuracy: 0.9195\n",
      "Epoch 60/100\n",
      "92/92 [==============================] - 18s 194ms/step - loss: 0.0217 - accuracy: 0.9933 - val_loss: 0.3151 - val_accuracy: 0.9243\n",
      "Epoch 61/100\n",
      "92/92 [==============================] - 18s 196ms/step - loss: 0.0225 - accuracy: 0.9927 - val_loss: 0.3182 - val_accuracy: 0.9236\n",
      "Epoch 62/100\n",
      "92/92 [==============================] - 18s 194ms/step - loss: 0.0218 - accuracy: 0.9925 - val_loss: 0.3186 - val_accuracy: 0.9222\n",
      "Epoch 63/100\n",
      "92/92 [==============================] - 18s 194ms/step - loss: 0.0223 - accuracy: 0.9923 - val_loss: 0.3200 - val_accuracy: 0.9209\n",
      "Epoch 64/100\n",
      "92/92 [==============================] - 17s 188ms/step - loss: 0.0239 - accuracy: 0.9913 - val_loss: 0.3085 - val_accuracy: 0.9297\n",
      "Epoch 65/100\n",
      "92/92 [==============================] - 18s 194ms/step - loss: 0.0190 - accuracy: 0.9942 - val_loss: 0.3131 - val_accuracy: 0.9250\n",
      "Epoch 66/100\n",
      "92/92 [==============================] - 18s 195ms/step - loss: 0.0176 - accuracy: 0.9944 - val_loss: 0.3318 - val_accuracy: 0.9222\n",
      "Epoch 67/100\n",
      "92/92 [==============================] - 18s 194ms/step - loss: 0.0153 - accuracy: 0.9952 - val_loss: 0.3197 - val_accuracy: 0.9236\n",
      "Epoch 68/100\n",
      "92/92 [==============================] - 18s 195ms/step - loss: 0.0153 - accuracy: 0.9937 - val_loss: 0.3276 - val_accuracy: 0.9277\n",
      "Epoch 69/100\n",
      "92/92 [==============================] - 18s 194ms/step - loss: 0.0146 - accuracy: 0.9957 - val_loss: 0.3289 - val_accuracy: 0.9250\n",
      "Epoch 70/100\n",
      "92/92 [==============================] - 18s 190ms/step - loss: 0.0127 - accuracy: 0.9959 - val_loss: 0.3178 - val_accuracy: 0.9284\n",
      "Epoch 71/100\n",
      "92/92 [==============================] - 17s 190ms/step - loss: 0.0140 - accuracy: 0.9962 - val_loss: 0.3441 - val_accuracy: 0.9243\n",
      "Epoch 72/100\n",
      "92/92 [==============================] - 18s 195ms/step - loss: 0.0153 - accuracy: 0.9957 - val_loss: 0.3128 - val_accuracy: 0.9270\n",
      "Epoch 73/100\n",
      "92/92 [==============================] - 18s 194ms/step - loss: 0.0130 - accuracy: 0.9968 - val_loss: 0.3345 - val_accuracy: 0.9229\n",
      "Epoch 74/100\n",
      "92/92 [==============================] - 18s 195ms/step - loss: 0.0154 - accuracy: 0.9957 - val_loss: 0.3344 - val_accuracy: 0.9229\n",
      "Epoch 00074: early stopping\n"
     ]
    }
   ],
   "source": [
    "# LSTM voor Y3_TRAIN\n",
    "#adam = tf.keras.optimizers.Adam(lr=0.0001, momentum=0.9, decay=0.01)\n",
    "adam = tf.keras.optimizers.Adam(learning_rate=0.0001)\n",
    "# Model checkpoint\n",
    "checkpoint_filepath = './LSTM_bestmodel.h5'\n",
    "mc = tf.keras.callbacks.ModelCheckpoint(filepath = checkpoint_filepath,save_weights_only=True, monitor='val_loss',mode='auto',save_best_only=True)\n",
    "# Early stopping\n",
    "es = EarlyStopping(monitor='val_loss', mode='min', verbose=1, patience = 35)\n",
    "# model\n",
    "input_mc = Input(shape=(400))\n",
    "input_af = Input(shape=(200))\n",
    "input_ac = Input(shape=(500))\n",
    "\n",
    "model = Sequential()\n",
    "embeding_mc=Embedding(MAX_NB_WORDS, EMBEDDING_DIM,input_length=X_train_mc.shape[1])(input_mc)\n",
    "embeding_af=Embedding(MAX_NB_WORDS, EMBEDDING_DIM,input_length=X_train_af.shape[1])(input_af)\n",
    "embeding_ac=Embedding(MAX_NB_WORDS, EMBEDDING_DIM,input_length=X_train_ac.shape[1])(input_ac)\n",
    "\n",
    "s_mc=SpatialDropout1D(0.4)(embeding_mc)\n",
    "o_mc=LSTM(32, dropout=0.4)(s_mc)\n",
    "s_af=SpatialDropout1D(0.4)(embeding_af)\n",
    "o_af=LSTM(32, dropout=0.4)(s_af)\n",
    "s_ac=SpatialDropout1D(0.4)(embeding_ac)\n",
    "o_ac=LSTM(32, dropout=0.4)(s_ac)\n",
    "\n",
    "concat_layer = Concatenate()([o_mc, o_af,o_ac])\n",
    "\n",
    "r=Dense(16, activation='relu')(concat_layer)\n",
    "r1=Dense(8, activation='relu')(r)\n",
    "\n",
    "lstm1 = Dense(6, activation='softmax')(r1)\n",
    "model = Model(inputs=[input_mc,input_af,input_ac], outputs=[lstm1])\n",
    "model.compile(loss='sparse_categorical_crossentropy', optimizer=adam, metrics=['accuracy'])\n",
    "history = model.fit([X_train_mc,X_train_af,X_train_ac], y3_train, validation_split=0.2, epochs=100,verbose=1,batch_size=64,callbacks=[es], class_weight={0: 0.28982755893054896,1: 0.5715177039463423,2: 1.188859878154917,3: 1.9525350593311757,4: 2.196868008948545,5: 2.980392156862745})"
   ]
  },
  {
   "cell_type": "code",
   "execution_count": 126,
   "metadata": {
    "colab": {
     "base_uri": "https://localhost:8080/",
     "height": 281
    },
    "id": "JqjTTeaVvoAq",
    "outputId": "d9478c97-3cac-4bb1-ba92-4194e553d9b0"
   },
   "outputs": [
    {
     "data": {
      "image/png": "[encoded data removed]",
      "text/plain": [
       "<Figure size 432x288 with 1 Axes>"
      ]
     },
     "metadata": {
      "needs_background": "light"
     },
     "output_type": "display_data"
    }
   ],
   "source": [
    "plt.title('Loss')\n",
    "plt.plot(history.history['loss'], label='train')\n",
    "plt.plot(history.history['val_loss'], label='test')\n",
    "plt.legend()\n",
    "plt.show();"
   ]
  },
  {
   "cell_type": "code",
   "execution_count": 127,
   "metadata": {
    "colab": {
     "base_uri": "https://localhost:8080/",
     "height": 281
    },
    "id": "aXZwXFhQvoAr",
    "outputId": "9ae0436c-1991-4f4e-d2e8-198eb40c5ebe"
   },
   "outputs": [
    {
     "data": {
      "image/png": "[encoded data removed]",
      "text/plain": [
       "<Figure size 432x288 with 1 Axes>"
      ]
     },
     "metadata": {
      "needs_background": "light"
     },
     "output_type": "display_data"
    }
   ],
   "source": [
    "plt.title('Accuracy')\n",
    "plt.plot(history.history['accuracy'], label='train')\n",
    "plt.plot(history.history['val_accuracy'], label='test')\n",
    "plt.legend()\n",
    "plt.show();"
   ]
  },
  {
   "cell_type": "markdown",
   "metadata": {},
   "source": [
    "### Voorspellen van labels.damage_type"
   ]
  },
  {
   "cell_type": "code",
   "execution_count": 54,
   "metadata": {
    "id": "StF9ZCndvoAr"
   },
   "outputs": [
    {
     "name": "stdout",
     "output_type": "stream",
     "text": [
      "Epoch 1/200\n",
      "92/92 [==============================] - 27s 295ms/step - loss: 1.7785 - accuracy: 0.2834 - val_loss: 1.6930 - val_accuracy: 0.2538\n",
      "Epoch 2/200\n",
      "92/92 [==============================] - 25s 268ms/step - loss: 1.6180 - accuracy: 0.2721 - val_loss: 1.6293 - val_accuracy: 0.2333\n",
      "Epoch 3/200\n",
      "92/92 [==============================] - 25s 266ms/step - loss: 1.3326 - accuracy: 0.3002 - val_loss: 1.4130 - val_accuracy: 0.2988\n",
      "Epoch 4/200\n",
      "92/92 [==============================] - 26s 280ms/step - loss: 1.0241 - accuracy: 0.4933 - val_loss: 0.9898 - val_accuracy: 0.6126\n",
      "Epoch 5/200\n",
      "92/92 [==============================] - 25s 276ms/step - loss: 0.6129 - accuracy: 0.7325 - val_loss: 0.7755 - val_accuracy: 0.7374\n",
      "Epoch 6/200\n",
      "92/92 [==============================] - 26s 279ms/step - loss: 0.3696 - accuracy: 0.8541 - val_loss: 0.5926 - val_accuracy: 0.8131\n",
      "Epoch 7/200\n",
      "92/92 [==============================] - 26s 286ms/step - loss: 0.2995 - accuracy: 0.8830 - val_loss: 0.5313 - val_accuracy: 0.8390\n",
      "Epoch 8/200\n",
      "92/92 [==============================] - 25s 271ms/step - loss: 0.2057 - accuracy: 0.9197 - val_loss: 0.5487 - val_accuracy: 0.8377\n",
      "Epoch 9/200\n",
      "92/92 [==============================] - 25s 276ms/step - loss: 0.1490 - accuracy: 0.9435 - val_loss: 0.5112 - val_accuracy: 0.8492\n",
      "Epoch 10/200\n",
      "92/92 [==============================] - 26s 282ms/step - loss: 0.1317 - accuracy: 0.9487 - val_loss: 0.5309 - val_accuracy: 0.8636\n",
      "Epoch 11/200\n",
      "92/92 [==============================] - 26s 286ms/step - loss: 0.1242 - accuracy: 0.9487 - val_loss: 0.5318 - val_accuracy: 0.8568\n",
      "Epoch 12/200\n",
      "92/92 [==============================] - 27s 289ms/step - loss: 0.1175 - accuracy: 0.9562 - val_loss: 0.5211 - val_accuracy: 0.8595\n",
      "Epoch 13/200\n",
      "92/92 [==============================] - 25s 276ms/step - loss: 0.0669 - accuracy: 0.9734 - val_loss: 0.6045 - val_accuracy: 0.8561\n",
      "Epoch 14/200\n",
      "92/92 [==============================] - 26s 282ms/step - loss: 0.0826 - accuracy: 0.9693 - val_loss: 0.5624 - val_accuracy: 0.8663\n",
      "Epoch 15/200\n",
      "92/92 [==============================] - 26s 286ms/step - loss: 0.0793 - accuracy: 0.9690 - val_loss: 0.5520 - val_accuracy: 0.8779\n",
      "Epoch 16/200\n",
      "92/92 [==============================] - 27s 292ms/step - loss: 0.0949 - accuracy: 0.9696 - val_loss: 0.4827 - val_accuracy: 0.8779\n",
      "Epoch 17/200\n",
      "92/92 [==============================] - 26s 279ms/step - loss: 0.0896 - accuracy: 0.9708 - val_loss: 0.4802 - val_accuracy: 0.8670\n",
      "Epoch 18/200\n",
      "92/92 [==============================] - 26s 278ms/step - loss: 0.0526 - accuracy: 0.9778 - val_loss: 0.4913 - val_accuracy: 0.8813\n",
      "Epoch 19/200\n",
      "92/92 [==============================] - 25s 269ms/step - loss: 0.0421 - accuracy: 0.9823 - val_loss: 0.5220 - val_accuracy: 0.8874\n",
      "Epoch 20/200\n",
      "92/92 [==============================] - 25s 269ms/step - loss: 0.0461 - accuracy: 0.9821 - val_loss: 0.4419 - val_accuracy: 0.8943\n",
      "Epoch 21/200\n",
      "92/92 [==============================] - 25s 269ms/step - loss: 0.0620 - accuracy: 0.9746 - val_loss: 0.4392 - val_accuracy: 0.8861\n",
      "Epoch 22/200\n",
      "92/92 [==============================] - 26s 278ms/step - loss: 0.0369 - accuracy: 0.9831 - val_loss: 0.4650 - val_accuracy: 0.8915\n",
      "Epoch 23/200\n",
      "92/92 [==============================] - 25s 271ms/step - loss: 0.0332 - accuracy: 0.9875 - val_loss: 0.4984 - val_accuracy: 0.8909\n",
      "Epoch 24/200\n",
      "92/92 [==============================] - 25s 273ms/step - loss: 0.0281 - accuracy: 0.9894 - val_loss: 0.5360 - val_accuracy: 0.8956\n",
      "Epoch 25/200\n",
      "92/92 [==============================] - 25s 270ms/step - loss: 0.0566 - accuracy: 0.9768 - val_loss: 0.4471 - val_accuracy: 0.8868\n",
      "Epoch 26/200\n",
      "92/92 [==============================] - 25s 270ms/step - loss: 0.0413 - accuracy: 0.9809 - val_loss: 0.4460 - val_accuracy: 0.8888\n",
      "Epoch 27/200\n",
      "92/92 [==============================] - 25s 277ms/step - loss: 0.0586 - accuracy: 0.9800 - val_loss: 0.4556 - val_accuracy: 0.8895\n",
      "Epoch 28/200\n",
      "92/92 [==============================] - 25s 273ms/step - loss: 0.0807 - accuracy: 0.9759 - val_loss: 0.4381 - val_accuracy: 0.8827\n",
      "Epoch 29/200\n",
      "92/92 [==============================] - 25s 269ms/step - loss: 0.0397 - accuracy: 0.9841 - val_loss: 0.4604 - val_accuracy: 0.8909\n",
      "Epoch 30/200\n",
      "92/92 [==============================] - 25s 270ms/step - loss: 0.0423 - accuracy: 0.9836 - val_loss: 0.5374 - val_accuracy: 0.8670\n",
      "Epoch 31/200\n",
      "92/92 [==============================] - 26s 284ms/step - loss: 0.0556 - accuracy: 0.9811 - val_loss: 0.4320 - val_accuracy: 0.8902\n",
      "Epoch 32/200\n",
      "92/92 [==============================] - 26s 278ms/step - loss: 0.0416 - accuracy: 0.9826 - val_loss: 0.4460 - val_accuracy: 0.8881\n",
      "Epoch 33/200\n",
      "92/92 [==============================] - 26s 282ms/step - loss: 0.0293 - accuracy: 0.9855 - val_loss: 0.5250 - val_accuracy: 0.8765\n",
      "Epoch 34/200\n",
      "92/92 [==============================] - 26s 277ms/step - loss: 0.0301 - accuracy: 0.9891 - val_loss: 0.4941 - val_accuracy: 0.8799\n",
      "Epoch 35/200\n",
      "92/92 [==============================] - 25s 276ms/step - loss: 0.0336 - accuracy: 0.9860 - val_loss: 0.4355 - val_accuracy: 0.8847\n",
      "Epoch 36/200\n",
      "92/92 [==============================] - 25s 275ms/step - loss: 0.0325 - accuracy: 0.9886 - val_loss: 0.4244 - val_accuracy: 0.9025\n",
      "Epoch 37/200\n",
      "92/92 [==============================] - 25s 271ms/step - loss: 0.0229 - accuracy: 0.9906 - val_loss: 0.4381 - val_accuracy: 0.9011\n",
      "Epoch 38/200\n",
      "92/92 [==============================] - 25s 268ms/step - loss: 0.0255 - accuracy: 0.9874 - val_loss: 0.5217 - val_accuracy: 0.8683\n",
      "Epoch 39/200\n",
      "92/92 [==============================] - 27s 289ms/step - loss: 0.0573 - accuracy: 0.9843 - val_loss: 0.4192 - val_accuracy: 0.8929\n",
      "Epoch 40/200\n",
      "92/92 [==============================] - 25s 272ms/step - loss: 0.0269 - accuracy: 0.9904 - val_loss: 0.4715 - val_accuracy: 0.8881\n",
      "Epoch 41/200\n",
      "92/92 [==============================] - 26s 277ms/step - loss: 0.0234 - accuracy: 0.9901 - val_loss: 0.4151 - val_accuracy: 0.9011\n",
      "Epoch 42/200\n",
      "92/92 [==============================] - 26s 285ms/step - loss: 0.0357 - accuracy: 0.9886 - val_loss: 0.4876 - val_accuracy: 0.8868\n",
      "Epoch 43/200\n",
      "92/92 [==============================] - 26s 280ms/step - loss: 0.0462 - accuracy: 0.9886 - val_loss: 0.4586 - val_accuracy: 0.8813\n",
      "Epoch 44/200\n",
      "92/92 [==============================] - 26s 281ms/step - loss: 0.0424 - accuracy: 0.9877 - val_loss: 0.4480 - val_accuracy: 0.8943\n",
      "Epoch 45/200\n",
      "92/92 [==============================] - 26s 280ms/step - loss: 0.0262 - accuracy: 0.9927 - val_loss: 0.4651 - val_accuracy: 0.8888\n",
      "Epoch 46/200\n",
      "92/92 [==============================] - 27s 292ms/step - loss: 0.0191 - accuracy: 0.9923 - val_loss: 0.4711 - val_accuracy: 0.8990\n",
      "Epoch 47/200\n",
      "92/92 [==============================] - 26s 284ms/step - loss: 0.0191 - accuracy: 0.9932 - val_loss: 0.4963 - val_accuracy: 0.8943\n",
      "Epoch 48/200\n",
      "92/92 [==============================] - 26s 281ms/step - loss: 0.0182 - accuracy: 0.9930 - val_loss: 0.4726 - val_accuracy: 0.8990\n",
      "Epoch 49/200\n",
      "92/92 [==============================] - 26s 281ms/step - loss: 0.0258 - accuracy: 0.9925 - val_loss: 0.4874 - val_accuracy: 0.8895\n",
      "Epoch 50/200\n",
      "92/92 [==============================] - 25s 276ms/step - loss: 0.0202 - accuracy: 0.9930 - val_loss: 0.4724 - val_accuracy: 0.8915\n",
      "Epoch 51/200\n",
      "92/92 [==============================] - 26s 278ms/step - loss: 0.0353 - accuracy: 0.9913 - val_loss: 0.5426 - val_accuracy: 0.8963\n",
      "Epoch 52/200\n",
      "92/92 [==============================] - 26s 278ms/step - loss: 0.0377 - accuracy: 0.9870 - val_loss: 0.4654 - val_accuracy: 0.8950\n",
      "Epoch 53/200\n",
      "92/92 [==============================] - 26s 282ms/step - loss: 0.0453 - accuracy: 0.9858 - val_loss: 0.4692 - val_accuracy: 0.8881\n",
      "Epoch 54/200\n",
      "92/92 [==============================] - 25s 277ms/step - loss: 0.0191 - accuracy: 0.9935 - val_loss: 0.4532 - val_accuracy: 0.8997\n",
      "Epoch 55/200\n",
      "92/92 [==============================] - 26s 279ms/step - loss: 0.0241 - accuracy: 0.9882 - val_loss: 0.5214 - val_accuracy: 0.8854\n",
      "Epoch 56/200\n",
      "92/92 [==============================] - 26s 277ms/step - loss: 0.0176 - accuracy: 0.9930 - val_loss: 0.4818 - val_accuracy: 0.9025\n",
      "Epoch 57/200\n"
     ]
    },
    {
     "name": "stdout",
     "output_type": "stream",
     "text": [
      "92/92 [==============================] - 26s 278ms/step - loss: 0.0182 - accuracy: 0.9916 - val_loss: 0.4986 - val_accuracy: 0.8984\n",
      "Epoch 58/200\n",
      "92/92 [==============================] - 25s 276ms/step - loss: 0.0224 - accuracy: 0.9901 - val_loss: 0.6186 - val_accuracy: 0.8793\n",
      "Epoch 59/200\n",
      "92/92 [==============================] - 25s 275ms/step - loss: 0.0597 - accuracy: 0.9809 - val_loss: 0.4612 - val_accuracy: 0.8963\n",
      "Epoch 60/200\n",
      "92/92 [==============================] - 26s 278ms/step - loss: 0.0317 - accuracy: 0.9889 - val_loss: 0.4921 - val_accuracy: 0.8847\n",
      "Epoch 61/200\n",
      "92/92 [==============================] - 26s 288ms/step - loss: 0.0247 - accuracy: 0.9911 - val_loss: 0.5271 - val_accuracy: 0.8854\n",
      "Epoch 62/200\n",
      "92/92 [==============================] - 27s 290ms/step - loss: 0.0177 - accuracy: 0.9937 - val_loss: 0.4825 - val_accuracy: 0.8936\n",
      "Epoch 63/200\n",
      "92/92 [==============================] - 26s 281ms/step - loss: 0.0327 - accuracy: 0.9916 - val_loss: 0.5657 - val_accuracy: 0.8827\n",
      "Epoch 64/200\n",
      "92/92 [==============================] - 26s 282ms/step - loss: 0.0254 - accuracy: 0.9933 - val_loss: 0.5187 - val_accuracy: 0.8834\n",
      "Epoch 65/200\n",
      "92/92 [==============================] - 26s 278ms/step - loss: 0.0233 - accuracy: 0.9925 - val_loss: 0.5198 - val_accuracy: 0.8813\n",
      "Epoch 66/200\n",
      "92/92 [==============================] - 25s 271ms/step - loss: 0.0265 - accuracy: 0.9913 - val_loss: 0.5103 - val_accuracy: 0.8854\n",
      "Epoch 67/200\n",
      "92/92 [==============================] - 26s 281ms/step - loss: 0.0162 - accuracy: 0.9942 - val_loss: 0.5409 - val_accuracy: 0.8922\n",
      "Epoch 68/200\n",
      "92/92 [==============================] - 25s 273ms/step - loss: 0.0285 - accuracy: 0.9896 - val_loss: 0.4051 - val_accuracy: 0.9072\n",
      "Epoch 69/200\n",
      "92/92 [==============================] - 25s 276ms/step - loss: 0.0172 - accuracy: 0.9939 - val_loss: 0.4830 - val_accuracy: 0.8881\n",
      "Epoch 70/200\n",
      "92/92 [==============================] - 26s 287ms/step - loss: 0.0143 - accuracy: 0.9961 - val_loss: 0.4918 - val_accuracy: 0.8902\n",
      "Epoch 71/200\n",
      "92/92 [==============================] - 26s 287ms/step - loss: 0.0174 - accuracy: 0.9944 - val_loss: 0.6307 - val_accuracy: 0.8874\n",
      "Epoch 72/200\n",
      "92/92 [==============================] - 26s 287ms/step - loss: 0.0285 - accuracy: 0.9910 - val_loss: 0.4670 - val_accuracy: 0.8977\n",
      "Epoch 73/200\n",
      "92/92 [==============================] - 26s 286ms/step - loss: 0.0212 - accuracy: 0.9915 - val_loss: 0.4790 - val_accuracy: 0.8950\n",
      "Epoch 74/200\n",
      "92/92 [==============================] - 25s 273ms/step - loss: 0.0352 - accuracy: 0.9906 - val_loss: 0.6149 - val_accuracy: 0.8759\n",
      "Epoch 75/200\n",
      "92/92 [==============================] - 25s 271ms/step - loss: 0.0373 - accuracy: 0.9889 - val_loss: 0.4970 - val_accuracy: 0.8881\n",
      "Epoch 76/200\n",
      "92/92 [==============================] - 25s 272ms/step - loss: 0.0226 - accuracy: 0.9932 - val_loss: 0.5850 - val_accuracy: 0.8909\n",
      "Epoch 77/200\n",
      "92/92 [==============================] - 25s 272ms/step - loss: 0.0297 - accuracy: 0.9918 - val_loss: 0.4553 - val_accuracy: 0.8956\n",
      "Epoch 78/200\n",
      "92/92 [==============================] - 25s 272ms/step - loss: 0.0311 - accuracy: 0.9916 - val_loss: 0.4888 - val_accuracy: 0.8902\n",
      "Epoch 79/200\n",
      "92/92 [==============================] - 26s 278ms/step - loss: 0.0217 - accuracy: 0.9928 - val_loss: 0.4835 - val_accuracy: 0.8963\n",
      "Epoch 80/200\n",
      "92/92 [==============================] - 25s 274ms/step - loss: 0.0178 - accuracy: 0.9945 - val_loss: 0.5517 - val_accuracy: 0.8922\n",
      "Epoch 81/200\n",
      "92/92 [==============================] - 25s 275ms/step - loss: 0.0195 - accuracy: 0.9933 - val_loss: 0.5552 - val_accuracy: 0.8990\n",
      "Epoch 82/200\n",
      "92/92 [==============================] - 26s 281ms/step - loss: 0.0166 - accuracy: 0.9937 - val_loss: 0.5005 - val_accuracy: 0.9018\n",
      "Epoch 83/200\n",
      "92/92 [==============================] - 25s 274ms/step - loss: 0.0164 - accuracy: 0.9945 - val_loss: 0.4932 - val_accuracy: 0.8990\n",
      "Epoch 84/200\n",
      "92/92 [==============================] - 25s 276ms/step - loss: 0.0137 - accuracy: 0.9959 - val_loss: 0.4984 - val_accuracy: 0.9025\n",
      "Epoch 85/200\n",
      "92/92 [==============================] - 26s 280ms/step - loss: 0.0158 - accuracy: 0.9947 - val_loss: 0.5374 - val_accuracy: 0.8977\n",
      "Epoch 86/200\n",
      "92/92 [==============================] - 26s 288ms/step - loss: 0.0168 - accuracy: 0.9939 - val_loss: 0.5134 - val_accuracy: 0.9011\n",
      "Epoch 87/200\n",
      "92/92 [==============================] - 25s 274ms/step - loss: 0.0124 - accuracy: 0.9966 - val_loss: 0.4759 - val_accuracy: 0.9065\n",
      "Epoch 88/200\n",
      "92/92 [==============================] - 26s 285ms/step - loss: 0.0223 - accuracy: 0.9913 - val_loss: 0.4813 - val_accuracy: 0.8984\n",
      "Epoch 89/200\n",
      "92/92 [==============================] - 26s 287ms/step - loss: 0.0377 - accuracy: 0.9877 - val_loss: 0.4701 - val_accuracy: 0.8977\n",
      "Epoch 90/200\n",
      "92/92 [==============================] - 26s 285ms/step - loss: 0.0517 - accuracy: 0.9855 - val_loss: 0.4929 - val_accuracy: 0.8936\n",
      "Epoch 91/200\n",
      "92/92 [==============================] - 26s 280ms/step - loss: 0.0231 - accuracy: 0.9908 - val_loss: 0.5269 - val_accuracy: 0.8834\n",
      "Epoch 92/200\n",
      "92/92 [==============================] - 25s 272ms/step - loss: 0.0184 - accuracy: 0.9945 - val_loss: 0.5817 - val_accuracy: 0.8779\n",
      "Epoch 93/200\n",
      "92/92 [==============================] - 25s 272ms/step - loss: 0.0190 - accuracy: 0.9918 - val_loss: 0.4961 - val_accuracy: 0.8970\n",
      "Epoch 94/200\n",
      "92/92 [==============================] - 26s 277ms/step - loss: 0.0136 - accuracy: 0.9942 - val_loss: 0.5171 - val_accuracy: 0.8956\n",
      "Epoch 95/200\n",
      "92/92 [==============================] - 25s 274ms/step - loss: 0.0133 - accuracy: 0.9957 - val_loss: 0.5258 - val_accuracy: 0.8936\n",
      "Epoch 96/200\n",
      "92/92 [==============================] - 25s 270ms/step - loss: 0.0125 - accuracy: 0.9961 - val_loss: 0.5219 - val_accuracy: 0.8997\n",
      "Epoch 97/200\n",
      "92/92 [==============================] - 26s 279ms/step - loss: 0.0159 - accuracy: 0.9945 - val_loss: 0.5144 - val_accuracy: 0.8977\n",
      "Epoch 98/200\n",
      "92/92 [==============================] - 25s 272ms/step - loss: 0.0372 - accuracy: 0.9903 - val_loss: 0.5233 - val_accuracy: 0.8956\n",
      "Epoch 99/200\n",
      "92/92 [==============================] - 26s 286ms/step - loss: 0.0148 - accuracy: 0.9942 - val_loss: 0.5704 - val_accuracy: 0.8731\n",
      "Epoch 100/200\n",
      "92/92 [==============================] - 26s 281ms/step - loss: 0.0214 - accuracy: 0.9922 - val_loss: 0.4598 - val_accuracy: 0.8902\n",
      "Epoch 101/200\n",
      "92/92 [==============================] - 26s 281ms/step - loss: 0.0154 - accuracy: 0.9959 - val_loss: 0.4672 - val_accuracy: 0.9031\n",
      "Epoch 102/200\n",
      "92/92 [==============================] - 27s 297ms/step - loss: 0.0134 - accuracy: 0.9962 - val_loss: 0.5428 - val_accuracy: 0.8977\n",
      "Epoch 103/200\n",
      "92/92 [==============================] - 26s 286ms/step - loss: 0.0127 - accuracy: 0.9961 - val_loss: 0.5387 - val_accuracy: 0.8970\n"
     ]
    }
   ],
   "source": [
    "class_weights_damage_type = dict(zip(np.unique(y4_train), class_weight.compute_class_weight('balanced', np.unique(y4_train), np.ravel(y4_train)))) \n",
    "print(\"class_xweights\", class_weights_damage_type)\n",
    "# LSTM voor Y4_TRAIN\n",
    "adam = tf.keras.optimizers.Adam(learning_rate=0.0001)\n",
    "\n",
    "# Model checkpoint\n",
    "checkpoint_filepath = './LSTM_bestmodel.h5'\n",
    "mc = tf.keras.callbacks.ModelCheckpoint(filepath = checkpoint_filepath,save_weights_only=True, monitor='val_loss',mode='auto',save_best_only=True)\n",
    "\n",
    "# Early stopping\n",
    "es = EarlyStopping(monitor='val_loss', mode='min', verbose=0, patience = 35)\n",
    "\n",
    "# model\n",
    "input_mc = Input(shape=(400))\n",
    "input_af = Input(shape=(200))\n",
    "input_ac = Input(shape=(500))\n",
    "\n",
    "model = Sequential()\n",
    "embeding_mc=Embedding(MAX_NB_WORDS, EMBEDDING_DIM,input_length=X_train_mc.shape[1])(input_mc)\n",
    "embeding_af=Embedding(MAX_NB_WORDS, EMBEDDING_DIM,input_length=X_train_af.shape[1])(input_af)\n",
    "embeding_ac=Embedding(MAX_NB_WORDS, EMBEDDING_DIM,input_length=X_train_ac.shape[1])(input_ac)\n",
    "\n",
    "s_mc=SpatialDropout1D(0.4)(embeding_mc)\n",
    "o_mc=LSTM(256, dropout=0.4)(s_mc)\n",
    "s_af=SpatialDropout1D(0.4)(embeding_af)\n",
    "o_af=LSTM(256, dropout=0.4)(s_af)\n",
    "s_ac=SpatialDropout1D(0.4)(embeding_ac)\n",
    "o_ac=LSTM(256, dropout=0.4)(s_ac)\n",
    "concat_layer = Concatenate()([o_mc, o_af,o_ac])\n",
    "r=Dense(128, activation='relu')(concat_layer)\n",
    "r1=Dense(64, activation='relu')(r)\n",
    "r2=Dense(32, activation='relu')(r1)\n",
    "r3=Dense(16, activation='relu')(r2)\n",
    "lstm1 = Dense(6, activation='softmax')(r3)\n",
    "\n",
    "model = Model(inputs=[input_mc,input_af,input_ac], outputs=[lstm1])\n",
    "model.compile(loss='sparse_categorical_crossentropy', optimizer=\"adam\", metrics=['accuracy'])\n",
    "\n",
    "history = model.fit([X_train_mc,X_train_af,X_train_ac], y4_train, validation_split=0.2, epochs=200,verbose=1,batch_size=64,callbacks=[es,mc],class_weight=class_weights_damage_type)"
   ]
  },
  {
   "cell_type": "code",
   "execution_count": 57,
   "metadata": {
    "colab": {
     "base_uri": "https://localhost:8080/",
     "height": 281
    },
    "id": "DFeiAPF_voAs",
    "outputId": "946fcec9-5fc5-40c5-d9f0-07db7acbeead"
   },
   "outputs": [
    {
     "data": {
      "image/png": "[encoded data removed]",
      "text/plain": [
       "<Figure size 432x288 with 1 Axes>"
      ]
     },
     "metadata": {
      "needs_background": "light"
     },
     "output_type": "display_data"
    }
   ],
   "source": [
    "plt.title('Loss')\n",
    "plt.plot(history.history['loss'], label='train')\n",
    "plt.plot(history.history['val_loss'], label='test')\n",
    "plt.legend()\n",
    "plt.show();"
   ]
  },
  {
   "cell_type": "code",
   "execution_count": 58,
   "metadata": {
    "colab": {
     "base_uri": "https://localhost:8080/",
     "height": 281
    },
    "id": "IyCbssilvoAt",
    "outputId": "2d9434fd-42c6-4d36-bc50-51d8d1ef2295"
   },
   "outputs": [
    {
     "data": {
      "image/png": "[encoded data removed]",
      "text/plain": [
       "<Figure size 432x288 with 1 Axes>"
      ]
     },
     "metadata": {
      "needs_background": "light"
     },
     "output_type": "display_data"
    }
   ],
   "source": [
    "plt.title('Accuracy')\n",
    "plt.plot(history.history['accuracy'], label='train')\n",
    "plt.plot(history.history['val_accuracy'], label='test')\n",
    "plt.legend()\n",
    "plt.show();"
   ]
  }
 ],
 "metadata": {
  "accelerator": "GPU",
  "colab": {
   "collapsed_sections": [],
   "name": "LSTM_MultiLabel_sep_models.ipynb",
   "provenance": []
  },
  "kernelspec": {
   "display_name": "Python 3",
   "language": "python",
   "name": "python3"
  },
  "language_info": {
   "codemirror_mode": {
    "name": "ipython",
    "version": 3
   },
   "file_extension": ".py",
   "mimetype": "text/x-python",
   "name": "python",
   "nbconvert_exporter": "python",
   "pygments_lexer": "ipython3",
   "version": "3.8.1"
  }
 },
 "nbformat": 4,
 "nbformat_minor": 1
}

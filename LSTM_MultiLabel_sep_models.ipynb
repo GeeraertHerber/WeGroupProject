{
  "nbformat": 4,
  "nbformat_minor": 0,
  "metadata": {
    "colab": {
      "name": "LSTM_MultiLabel_sep_models.ipynb",
      "provenance": [],
      "collapsed_sections": []
    },
    "kernelspec": {
      "display_name": "Python 3",
      "language": "python",
      "name": "python3"
    },
    "language_info": {
      "codemirror_mode": {
        "name": "ipython",
        "version": 3
      },
      "file_extension": ".py",
      "mimetype": "text/x-python",
      "name": "python",
      "nbconvert_exporter": "python",
      "pygments_lexer": "ipython3",
      "version": "3.8.8"
    },
    "accelerator": "GPU"
  },
  "cells": [
    {
      "cell_type": "code",
      "metadata": {
        "id": "LvFXTrvbHJKp"
      },
      "source": [
        "import json, os\n",
        "import pandas as pd\n",
        "import numpy as np\n",
        "import seaborn as sns\n",
        "import matplotlib.pyplot as plt\n",
        "from pandas.io.json import json_normalize\n",
        "from bs4 import BeautifulSoup\n",
        "import nltk\n",
        "from nltk.corpus import stopwords\n",
        "from sklearn.metrics import classification_report\n",
        "from sklearn.metrics import confusion_matrix\n",
        "from keras.models import Model\n",
        "import re\n",
        "from keras.preprocessing.text import Tokenizer\n",
        "from keras.preprocessing.sequence import pad_sequences\n",
        "from sklearn.model_selection import train_test_split\n",
        "from keras.models import Sequential\n",
        "from keras.layers.embeddings import Embedding\n",
        "from keras.layers import SpatialDropout1D\n",
        "from keras.layers.core import Activation, Dropout, Dense\n",
        "from keras.layers import Flatten, LSTM\n",
        "from keras.callbacks import ModelCheckpoint, EarlyStopping\n",
        "from keras.layers import Input\n",
        "import tensorflow as tf\n",
        "from tensorflow.keras import optimizers\n",
        "from sklearn.utils import class_weight\n",
        "from keras.layers import Concatenate\n",
        "#physical_devices = tf.config.experimental.list_physical_devices('GPU')\n",
        "#tf.config.experimental.set_memory_growth(physical_devices[0], True)"
      ],
      "execution_count": null,
      "outputs": []
    },
    {
      "cell_type": "code",
      "metadata": {
        "colab": {
          "base_uri": "https://localhost:8080/"
        },
        "id": "iJ8-u_hHwLfI",
        "outputId": "3df221cc-6c6d-46dc-b44f-3e0c9c0c3945"
      },
      "source": [
        "from google.colab import drive\n",
        "drive.mount('/content/drive')"
      ],
      "execution_count": null,
      "outputs": [
        {
          "output_type": "stream",
          "text": [
            "Mounted at /content/drive\n"
          ],
          "name": "stdout"
        }
      ]
    },
    {
      "cell_type": "code",
      "metadata": {
        "id": "aVVBoA5FHNsn"
      },
      "source": [
        "#INLADEN DATAFRAME NA PREPROCCESING\n",
        "dataset=pd.DataFrame()\n",
        "dataset = pd.read_pickle('/content/drive/MyDrive/dataset_prepro.pickle')"
      ],
      "execution_count": null,
      "outputs": []
    },
    {
      "cell_type": "code",
      "metadata": {
        "id": "DRyTEMCOvoAe"
      },
      "source": [
        "label_list = [ \"Electricity\",\n",
        "        \"Storm\",\n",
        "        \"WaterDamage\",\n",
        "        \"Other_DamageType\",\n",
        "        \"CracksAndTears\",\n",
        "        \"GlassBreakage\",\n",
        "        \"Collision\",\n",
        "        \"Burglary\",\n",
        "        \"Fire_Smoke_Explosion\",\n",
        "        \"Theft\",\n",
        "        \"Environment_OilFuel\",\n",
        "        \"Flooding\",]\n",
        "dataset = dataset[dataset[\"labels.damage_type\"].isin(label_list)]"
      ],
      "execution_count": null,
      "outputs": []
    },
    {
      "cell_type": "code",
      "metadata": {
        "id": "1HUzlOH92QXs"
      },
      "source": [
        "n=500\n",
        "dataset=dataset.set_index(['language', 'mail_content','labels.assignment_type','labels.case_type','labels.sub_case_type','labels.damage_type','attachments_filename'])['attachments_content'].str.split().apply(\n",
        "               lambda x: pd.Series([' '.join(x[i:i+n]) for i in range(0, len(x), n)])\n",
        "            ).stack().reset_index().drop('level_7', 1)\n",
        "dataset.columns = [*dataset.columns[:-1], 'attachments_content']"
      ],
      "execution_count": null,
      "outputs": []
    },
    {
      "cell_type": "code",
      "metadata": {
        "id": "6i0P8ikdHTFe"
      },
      "source": [
        "y=dataset[['labels.case_type','labels.sub_case_type','labels.damage_type','labels.assignment_type']]\n",
        "X=dataset.drop(['labels.case_type','labels.sub_case_type','labels.damage_type','labels.assignment_type','language'], axis=1)"
      ],
      "execution_count": null,
      "outputs": []
    },
    {
      "cell_type": "code",
      "metadata": {
        "colab": {
          "base_uri": "https://localhost:8080/",
          "height": 281
        },
        "id": "EUDhRJLIvoAh",
        "outputId": "c075d3e1-cf8a-443c-d3d1-d8dc129e2647"
      },
      "source": [
        "pd.set_option('display.max_colwidth', 100)\n",
        "X.head()"
      ],
      "execution_count": null,
      "outputs": [
        {
          "output_type": "execute_result",
          "data": {
            "text/html": [
              "<div>\n",
              "<style scoped>\n",
              "    .dataframe tbody tr th:only-of-type {\n",
              "        vertical-align: middle;\n",
              "    }\n",
              "\n",
              "    .dataframe tbody tr th {\n",
              "        vertical-align: top;\n",
              "    }\n",
              "\n",
              "    .dataframe thead th {\n",
              "        text-align: right;\n",
              "    }\n",
              "</style>\n",
              "<table border=\"1\" class=\"dataframe\">\n",
              "  <thead>\n",
              "    <tr style=\"text-align: right;\">\n",
              "      <th></th>\n",
              "      <th>mail_content</th>\n",
              "      <th>attachments_filename</th>\n",
              "      <th>attachments_content</th>\n",
              "    </tr>\n",
              "  </thead>\n",
              "  <tbody>\n",
              "    <tr>\n",
              "      <th>0</th>\n",
              "      <td>annexe transmettons document concernant mission confi cadre fense int ts present electronic mes...</td>\n",
              "      <td>MISSION_ASSIGNEMENT</td>\n",
              "      <td>blvd roi ii bic tva rpm entreprise agr nationale belgique pratiquer branches blvd experts sint s...</td>\n",
              "    </tr>\n",
              "    <tr>\n",
              "      <th>1</th>\n",
              "      <td>bijlage wij document betrekking opdracht toevertrouwd verdediging onze belangen present electro...</td>\n",
              "      <td>MISSION_ASSIGNEMENT foto 2021-00053-HEFI dd 14.08.2020 Kortrijk schade buurpand - geen ABR -Terr...</td>\n",
              "      <td>nv koning bic btw verzekeringsmaatschappij toegelaten nbb bank codenummer alle beoefenen contact...</td>\n",
              "    </tr>\n",
              "    <tr>\n",
              "      <th>2</th>\n",
              "      <td>bijlage wij document betrekking opdracht toevertrouwd verdediging onze belangen present electro...</td>\n",
              "      <td>MISSION_ASSIGNEMENT foto 2021-00053-HEFI dd 14.08.2020 Kortrijk schade buurpand - geen ABR -Terr...</td>\n",
              "      <td>per max uur per per per zuivere onstoffelijke schade per ba stoff schade vermengd per per jaar p...</td>\n",
              "    </tr>\n",
              "    <tr>\n",
              "      <th>3</th>\n",
              "      <td>bijlage wij document betrekking opdracht toevertrouwd verdediging onze belangen present electro...</td>\n",
              "      <td>MISSION_ASSIGNEMENT foto 2021-00053-HEFI dd 14.08.2020 Kortrijk schade buurpand - geen ABR -Terr...</td>\n",
              "      <td>wegvallen herziening opzeg dient per aangetekend schrijven gemeld ten laatste maanden geldt bewi...</td>\n",
              "    </tr>\n",
              "    <tr>\n",
              "      <th>4</th>\n",
              "      <td>sans mevrouw contacteren verzekeraar bijlage vindt bericht aanleiding waarbij betrokken wij vra...</td>\n",
              "      <td>Polis 1213534_12-29-2020_0240361364 VIVIUM PR C202036457 C36 Inspectie - MS 2021-01-08</td>\n",
              "      <td>historiek num contract ris schade num beschrijving schade datum div polis feel home bijzondere v...</td>\n",
              "    </tr>\n",
              "  </tbody>\n",
              "</table>\n",
              "</div>"
            ],
            "text/plain": [
              "                                                                                          mail_content  ...                                                                                  attachments_content\n",
              "0   annexe transmettons document concernant mission confi cadre fense int ts present electronic mes...  ...  blvd roi ii bic tva rpm entreprise agr nationale belgique pratiquer branches blvd experts sint s...\n",
              "1   bijlage wij document betrekking opdracht toevertrouwd verdediging onze belangen present electro...  ...  nv koning bic btw verzekeringsmaatschappij toegelaten nbb bank codenummer alle beoefenen contact...\n",
              "2   bijlage wij document betrekking opdracht toevertrouwd verdediging onze belangen present electro...  ...  per max uur per per per zuivere onstoffelijke schade per ba stoff schade vermengd per per jaar p...\n",
              "3   bijlage wij document betrekking opdracht toevertrouwd verdediging onze belangen present electro...  ...  wegvallen herziening opzeg dient per aangetekend schrijven gemeld ten laatste maanden geldt bewi...\n",
              "4   sans mevrouw contacteren verzekeraar bijlage vindt bericht aanleiding waarbij betrokken wij vra...  ...  historiek num contract ris schade num beschrijving schade datum div polis feel home bijzondere v...\n",
              "\n",
              "[5 rows x 3 columns]"
            ]
          },
          "metadata": {
            "tags": []
          },
          "execution_count": 7
        }
      ]
    },
    {
      "cell_type": "code",
      "metadata": {
        "id": "5331Gg5fvoAj"
      },
      "source": [
        "plt.figure(1 , figsize = (15 , 6))\n",
        "\n",
        "plt.subplot(1 , 4 , 1)\n",
        "sns.countplot(x=\"labels.assignment_type\",data=dataset_label_lander)\n",
        "plt.subplot(1 , 4 , 2)\n",
        "sns.countplot(x=\"labels.case_type\",data=dataset_label_lander)\n",
        "\n",
        "plt.figure(2 , figsize = (15 , 6))\n",
        "plt.subplot(2 , 4 , 1)\n",
        "sns.countplot(x=\"labels.sub_case_type\",data=dataset_label_lander)\n",
        "plt.subplot(2 , 4 , 2)\n",
        "sns.countplot(x=\"labels.damage_type\",data=dataset_label_lander)"
      ],
      "execution_count": null,
      "outputs": []
    },
    {
      "cell_type": "code",
      "metadata": {
        "colab": {
          "base_uri": "https://localhost:8080/"
        },
        "id": "0L64Cgdv26ta",
        "outputId": "ea890348-edf4-4b34-c8b3-fd0df0aadde2"
      },
      "source": [
        "X_train, X_test, y_train, y_test = train_test_split(X,y, test_size = 0.20, random_state=0)\n",
        "print(X_train.shape,y_train.shape)\n",
        "print(X_test.shape,y_test.shape)"
      ],
      "execution_count": null,
      "outputs": [
        {
          "output_type": "stream",
          "text": [
            "(8090, 3) (8090, 4)\n",
            "(2023, 3) (2023, 4)\n"
          ],
          "name": "stdout"
        }
      ]
    },
    {
      "cell_type": "code",
      "metadata": {
        "id": "CZZ6YsEFHaf_"
      },
      "source": [
        "#Max number van woorden\n",
        "MAX_NB_WORDS = 50000\n",
        "EMBEDDING_DIM = 100"
      ],
      "execution_count": null,
      "outputs": []
    },
    {
      "cell_type": "code",
      "metadata": {
        "id": "DAA8bZGPHdue",
        "colab": {
          "base_uri": "https://localhost:8080/"
        },
        "outputId": "ec5a1df0-e095-453e-f4bf-26e6dba1d366"
      },
      "source": [
        "#mail_content Tokenizer\n",
        "tokenizer = Tokenizer(num_words=MAX_NB_WORDS, filters='!\"#$%&()*+,-./:;<=>?@[\\]^_`{|}~', lower=True)\n",
        "tokenizer.fit_on_texts(X['mail_content'].values)\n",
        "word_index = tokenizer.word_index\n",
        "print('Found %s unique tokens.' % len(word_index))\n",
        "\n",
        "X_train_mc = tokenizer.texts_to_sequences(X_train['mail_content'].values)\n",
        "X_train_mc = pad_sequences(X_train_mc,maxlen=400)\n",
        "print('Shape of data X_train_mc:', X_train_mc.shape)\n",
        "\n",
        "X_test_mc = tokenizer.texts_to_sequences(X_test['mail_content'].values)\n",
        "X_test_mc = pad_sequences(X_test_mc,maxlen=400)\n",
        "print('Shape of data X_train_mc:', X_test_mc.shape)"
      ],
      "execution_count": null,
      "outputs": [
        {
          "output_type": "stream",
          "text": [
            "Found 561 unique tokens.\n",
            "Shape of data X_train_mc: (8090, 400)\n",
            "Shape of data X_train_mc: (2023, 400)\n"
          ],
          "name": "stdout"
        }
      ]
    },
    {
      "cell_type": "code",
      "metadata": {
        "colab": {
          "base_uri": "https://localhost:8080/"
        },
        "id": "X4_yBNcbvoAl",
        "outputId": "47d86223-10b3-4fa5-ac87-8ddbd9e57ca1"
      },
      "source": [
        "#attachments_filename Tokenizer\n",
        "tokenizer = Tokenizer(num_words=MAX_NB_WORDS, filters='!\"#$%&()*+,-./:;<=>?@[\\]^_`{|}~', lower=True)\n",
        "tokenizer.fit_on_texts(X['attachments_filename'].values)\n",
        "word_index = tokenizer.word_index\n",
        "print('Found %s unique tokens.' % len(word_index))\n",
        "\n",
        "X_train_af = tokenizer.texts_to_sequences(X_train['attachments_filename'].values)\n",
        "X_train_af = pad_sequences(X_train_af,maxlen=200)\n",
        "print('Shape of data X_train_af:', X_train_af.shape)\n",
        "\n",
        "X_test_af = tokenizer.texts_to_sequences(X_test['attachments_filename'].values)\n",
        "X_test_af = pad_sequences(X_test_af,maxlen=200)\n",
        "print('Shape of data X_test_af:', X_test_af.shape)"
      ],
      "execution_count": null,
      "outputs": [
        {
          "output_type": "stream",
          "text": [
            "Found 15566 unique tokens.\n",
            "Shape of data X_train_af: (8090, 200)\n",
            "Shape of data X_test_af: (2023, 200)\n"
          ],
          "name": "stdout"
        }
      ]
    },
    {
      "cell_type": "code",
      "metadata": {
        "id": "G_Tb1Qa9Hi5T",
        "colab": {
          "base_uri": "https://localhost:8080/"
        },
        "outputId": "f62f3c1a-e6ae-4067-a84b-61c7f3347c65"
      },
      "source": [
        "#attachments_content Tokenizer\n",
        "tokenizer = Tokenizer(num_words=MAX_NB_WORDS, filters='!\"#$%&()*+,-./:;<=>?@[\\]^_`{|}~', lower=True)\n",
        "tokenizer.fit_on_texts(X['attachments_content'].values)\n",
        "word_index = tokenizer.word_index\n",
        "print('Found %s unique tokens.' % len(word_index))\n",
        "\n",
        "X_train_ac = tokenizer.texts_to_sequences(X_train['attachments_content'].values)\n",
        "X_train_ac = pad_sequences(X_train_ac,maxlen=500)\n",
        "print('Shape of data X_train_ac:', X_train_ac.shape)\n",
        "\n",
        "X_test_ac = tokenizer.texts_to_sequences(X_test['attachments_content'].values)\n",
        "X_test_ac = pad_sequences(X_test_ac,maxlen=500)\n",
        "print('Shape of data X_train_ac:', X_test_ac.shape)"
      ],
      "execution_count": null,
      "outputs": [
        {
          "output_type": "stream",
          "text": [
            "Found 43261 unique tokens.\n",
            "Shape of data X_train_ac: (8090, 500)\n",
            "Shape of data X_train_ac: (2023, 500)\n"
          ],
          "name": "stdout"
        }
      ]
    },
    {
      "cell_type": "code",
      "metadata": {
        "id": "D3oa9ahiHld3",
        "colab": {
          "base_uri": "https://localhost:8080/"
        },
        "outputId": "deb06f3d-330c-454f-97e4-c09d1bcc65b7"
      },
      "source": [
        "#One-hot multi output\n",
        "y1_train=pd.DataFrame(columns=pd.get_dummies(y[['labels.assignment_type']]).columns)\n",
        "y1_test=pd.DataFrame(columns=pd.get_dummies(y[['labels.assignment_type']]).columns)\n",
        "y2_train=pd.DataFrame(columns=pd.get_dummies(y[['labels.case_type']]).columns)\n",
        "y2_test=pd.DataFrame(columns=pd.get_dummies(y[['labels.case_type']]).columns)\n",
        "y3_train=pd.DataFrame(columns=pd.get_dummies(y[['labels.sub_case_type']]).columns)\n",
        "y3_test=pd.DataFrame(columns=pd.get_dummies(y[['labels.sub_case_type']]).columns)\n",
        "y4_train=pd.DataFrame(columns=pd.get_dummies(y[['labels.damage_type']]).columns)\n",
        "y4_test=pd.DataFrame(columns=pd.get_dummies(y[['labels.damage_type']]).columns)\n",
        "\n",
        "y1_train=y1_train.combine_first(pd.get_dummies(y_train[['labels.assignment_type']])).fillna(0)\n",
        "print('Shape of label tensor Y1 Train:', y1_train.shape)\n",
        "y1_test=y1_test.combine_first(pd.get_dummies(y_test[['labels.assignment_type']])).fillna(0)\n",
        "print('Shape of label tensor Y1 Test:', y1_test.shape)\n",
        "\n",
        "y2_train=y2_train.combine_first(pd.get_dummies(y_train[['labels.case_type']])).fillna(0)\n",
        "print('Shape of label tensor Y2 Train:', y2_train.shape)\n",
        "y2_test=y2_test.combine_first(pd.get_dummies(y_test[['labels.case_type']])).fillna(0)\n",
        "print('Shape of label tensor Y2 Test:', y2_test.shape)\n",
        "\n",
        "y3_train=y3_train.combine_first(pd.get_dummies(y_train[['labels.sub_case_type']])).fillna(0)\n",
        "print('Shape of label tensor Y3 Train:', y3_train.shape)\n",
        "y3_test=y3_test.combine_first(pd.get_dummies(y_test[['labels.sub_case_type']])).fillna(0)\n",
        "print('Shape of label tensor Y3 Test:', y3_test.shape)\n",
        "\n",
        "y4_train=y4_train.combine_first(pd.get_dummies(y_train[['labels.damage_type']])).fillna(0)\n",
        "print('Shape of label tensor Y4 Train:', y4_train.shape)\n",
        "y4_test=y4_test.combine_first(pd.get_dummies(y_test[['labels.damage_type']])).fillna(0)\n",
        "print('Shape of label tensor Y4 Test:', y4_test.shape)"
      ],
      "execution_count": null,
      "outputs": [
        {
          "output_type": "stream",
          "text": [
            "Shape of label tensor Y1 Train: (8090, 2)\n",
            "Shape of label tensor Y1 Test: (2023, 2)\n",
            "Shape of label tensor Y2 Train: (8090, 3)\n",
            "Shape of label tensor Y2 Test: (2023, 3)\n",
            "Shape of label tensor Y3 Train: (8090, 10)\n",
            "Shape of label tensor Y3 Test: (2023, 10)\n",
            "Shape of label tensor Y4 Train: (8090, 12)\n",
            "Shape of label tensor Y4 Test: (2023, 12)\n"
          ],
          "name": "stdout"
        }
      ]
    },
    {
      "cell_type": "code",
      "metadata": {
        "id": "n_Y3OyWGvoAn"
      },
      "source": [
        "# LSTM voor Y1_TRAIN\n",
        "#adam = tf.keras.optimizers.Adam(lr=0.0001, momentum=0.9, decay=0.01)\n",
        "adam = tf.keras.optimizers.Adam(learning_rate=0.0001)\n",
        "\n",
        "# Model checkpoint\n",
        "checkpoint_filepath = './LSTM_bestmodel.h5'\n",
        "mc = tf.keras.callbacks.ModelCheckpoint(filepath = checkpoint_filepath,save_weights_only=True, monitor='val_loss',mode='auto',save_best_only=True)\n",
        "\n",
        "# Early stopping\n",
        "es = EarlyStopping(monitor='val_accuracy', mode='max', verbose=1, patience = 35)\n",
        "\n",
        "# model\n",
        "input_mc = Input(shape=(400))\n",
        "input_af = Input(shape=(200))\n",
        "input_ac = Input(shape=(500))\n",
        "\n",
        "model = Sequential()\n",
        "embeding_mc=Embedding(MAX_NB_WORDS, EMBEDDING_DIM,input_length=X_train_mc.shape[1])(input_mc)\n",
        "embeding_af=Embedding(MAX_NB_WORDS, EMBEDDING_DIM,input_length=X_train_af.shape[1])(input_af)\n",
        "embeding_ac=Embedding(MAX_NB_WORDS, EMBEDDING_DIM,input_length=X_train_ac.shape[1])(input_ac)\n",
        "\n",
        "s_mc=SpatialDropout1D(0.4)(embeding_mc)\n",
        "o_mc=LSTM(64, dropout=0.4)(s_mc)\n",
        "s_af=SpatialDropout1D(0.4)(embeding_af)\n",
        "o_af=LSTM(64, dropout=0.4)(s_af)\n",
        "s_ac=SpatialDropout1D(0.4)(embeding_ac)\n",
        "o_ac=LSTM(64, dropout=0.4)(s_ac)\n",
        "concat_layer = Concatenate()([o_mc, o_af,o_ac])\n",
        "\n",
        "r=Dense(32, activation='relu')(concat_layer)\n",
        "lstm1 = Dense(2, activation='softmax')(r)\n",
        "\n",
        "model = Model(inputs=[input_mc,input_af,input_ac], outputs=[lstm1])\n",
        "model.compile(loss='categorical_crossentropy', optimizer=adam, metrics=['accuracy'])\n",
        "\n",
        "history = model.fit([X_train_mc,X_train_af,X_train_ac], y1_train, validation_split=0.2,class_weight=class_weights_assignment, epochs=100,verbose=1,batch_size=64,callbacks=[es])"
      ],
      "execution_count": null,
      "outputs": []
    },
    {
      "cell_type": "code",
      "metadata": {
        "colab": {
          "base_uri": "https://localhost:8080/",
          "height": 281
        },
        "id": "F6N8iOY-voAn",
        "outputId": "c4c8ce27-f4af-4ae3-9bed-220eda89b20a"
      },
      "source": [
        "plt.title('Loss')\n",
        "plt.plot(history.history['loss'], label='train')\n",
        "plt.plot(history.history['val_loss'], label='test')\n",
        "plt.legend()\n",
        "plt.show();"
      ],
      "execution_count": null,
      "outputs": [
        {
          "output_type": "display_data",
          "data": {
            "image/png": "[encoded data removed]",
            "text/plain": [
              "<Figure size 432x288 with 1 Axes>"
            ]
          },
          "metadata": {
            "tags": [],
            "needs_background": "light"
          }
        }
      ]
    },
    {
      "cell_type": "code",
      "metadata": {
        "colab": {
          "base_uri": "https://localhost:8080/",
          "height": 281
        },
        "id": "PU0A8grevoAo",
        "outputId": "e46f644a-4f63-4576-b89b-b5104324fbf4"
      },
      "source": [
        "plt.title('Accuracy')\n",
        "plt.plot(history.history['accuracy'], label='train')\n",
        "plt.plot(history.history['val_accuracy'], label='test')\n",
        "plt.legend()\n",
        "plt.show();"
      ],
      "execution_count": null,
      "outputs": [
        {
          "output_type": "display_data",
          "data": {
            "image/png": "[encoded data removed]",
            "text/plain": [
              "<Figure size 432x288 with 1 Axes>"
            ]
          },
          "metadata": {
            "tags": [],
            "needs_background": "light"
          }
        }
      ]
    },
    {
      "cell_type": "code",
      "metadata": {
        "id": "NZ-BhBKKNsE6"
      },
      "source": [
        "class_weights_case = dict(zip(np.unique(y2_train), class_weight.compute_class_weight('balanced', np.unique(y2_train), \n",
        "                np.ravel(y2_train)))) "
      ],
      "execution_count": null,
      "outputs": []
    },
    {
      "cell_type": "code",
      "metadata": {
        "id": "9eoDWD7vHzFZ"
      },
      "source": [
        "# LSTM voor Y2_TRAIN\n",
        "#adam = tf.keras.optimizers.Adam(lr=0.0001, momentum=0.9, decay=0.01)\n",
        "adam = tf.keras.optimizers.Adam(learning_rate=0.0001)\n",
        "\n",
        "# Model checkpoint\n",
        "checkpoint_filepath = './LSTM_bestmodel.h5'\n",
        "mc = tf.keras.callbacks.ModelCheckpoint(filepath = checkpoint_filepath,save_weights_only=True, monitor='val_loss',mode='auto',save_best_only=True)\n",
        "\n",
        "# Early stopping\n",
        "es = EarlyStopping(monitor='val_accuracy', mode='max', verbose=1, patience = 35)\n",
        "\n",
        "# model\n",
        "input_mc = Input(shape=(400))\n",
        "input_af = Input(shape=(200))\n",
        "input_ac = Input(shape=(500))\n",
        "\n",
        "model = Sequential()\n",
        "embeding_mc=Embedding(MAX_NB_WORDS, EMBEDDING_DIM,input_length=X_train_mc.shape[1])(input_mc)\n",
        "embeding_af=Embedding(MAX_NB_WORDS, EMBEDDING_DIM,input_length=X_train_af.shape[1])(input_af)\n",
        "embeding_ac=Embedding(MAX_NB_WORDS, EMBEDDING_DIM,input_length=X_train_ac.shape[1])(input_ac)\n",
        "\n",
        "s_mc=SpatialDropout1D(0.4)(embeding_mc)\n",
        "o_mc=LSTM(64, dropout=0.4)(s_mc)\n",
        "s_af=SpatialDropout1D(0.4)(embeding_af)\n",
        "o_af=LSTM(64, dropout=0.4)(s_af)\n",
        "s_ac=SpatialDropout1D(0.4)(embeding_ac)\n",
        "o_ac=LSTM(64, dropout=0.4)(s_ac)\n",
        "concat_layer = Concatenate()([o_mc, o_af,o_ac])\n",
        "r=Dense(32, activation='relu')(concat_layer)\n",
        "lstm1 = Dense(3, activation='softmax')(r)\n",
        "\n",
        "model = Model(inputs=[input_mc,input_af,input_ac], outputs=[lstm1])\n",
        "model.compile(loss='categorical_crossentropy', optimizer=adam, metrics=['accuracy'])\n",
        "\n",
        "history = model.fit([X_train_mc,X_train_af,X_train_ac], y2_train, validation_split=0.2, epochs=100,verbose=1,batch_size=64,callbacks=[es])"
      ],
      "execution_count": null,
      "outputs": []
    },
    {
      "cell_type": "code",
      "metadata": {
        "colab": {
          "base_uri": "https://localhost:8080/",
          "height": 281
        },
        "id": "m__P3aNdvoAp",
        "outputId": "dccd41da-a0b4-446e-f65d-1c2de96e2480"
      },
      "source": [
        "plt.title('Loss')\n",
        "plt.plot(history.history['loss'], label='train')\n",
        "plt.plot(history.history['val_loss'], label='test')\n",
        "plt.legend()\n",
        "plt.show();"
      ],
      "execution_count": null,
      "outputs": [
        {
          "output_type": "display_data",
          "data": {
            "image/png": "[encoded data removed]",
            "text/plain": [
              "<Figure size 432x288 with 1 Axes>"
            ]
          },
          "metadata": {
            "tags": [],
            "needs_background": "light"
          }
        }
      ]
    },
    {
      "cell_type": "code",
      "metadata": {
        "colab": {
          "base_uri": "https://localhost:8080/",
          "height": 281
        },
        "id": "5CsqkTUXvoAp",
        "outputId": "d6f541aa-84ff-4efc-cb59-88eb852f941d"
      },
      "source": [
        "plt.title('Accuracy')\n",
        "plt.plot(history.history['accuracy'], label='train')\n",
        "plt.plot(history.history['val_accuracy'], label='test')\n",
        "plt.legend()\n",
        "plt.show();"
      ],
      "execution_count": null,
      "outputs": [
        {
          "output_type": "display_data",
          "data": {
            "image/png": "[encoded data removed]",
            "text/plain": [
              "<Figure size 432x288 with 1 Axes>"
            ]
          },
          "metadata": {
            "tags": [],
            "needs_background": "light"
          }
        }
      ]
    },
    {
      "cell_type": "code",
      "metadata": {
        "id": "2xgjbBh9voAp"
      },
      "source": [
        "# LSTM voor Y3_TRAIN\n",
        "#adam = tf.keras.optimizers.Adam(lr=0.0001, momentum=0.9, decay=0.01)\n",
        "adam = tf.keras.optimizers.Adam(learning_rate=0.0001)\n",
        "\n",
        "# Model checkpoint\n",
        "checkpoint_filepath = './LSTM_bestmodel.h5'\n",
        "mc = tf.keras.callbacks.ModelCheckpoint(filepath = checkpoint_filepath,save_weights_only=True, monitor='val_loss',mode='auto',save_best_only=True)\n",
        "\n",
        "# Early stopping\n",
        "es = EarlyStopping(monitor='val_accuracy', mode='max', verbose=1, patience = 35)\n",
        "\n",
        "# model\n",
        "input_mc = Input(shape=(400))\n",
        "input_af = Input(shape=(200))\n",
        "input_ac = Input(shape=(500))\n",
        "\n",
        "model = Sequential()\n",
        "embeding_mc=Embedding(MAX_NB_WORDS, EMBEDDING_DIM,input_length=X_train_mc.shape[1])(input_mc)\n",
        "embeding_af=Embedding(MAX_NB_WORDS, EMBEDDING_DIM,input_length=X_train_af.shape[1])(input_af)\n",
        "embeding_ac=Embedding(MAX_NB_WORDS, EMBEDDING_DIM,input_length=X_train_ac.shape[1])(input_ac)\n",
        "\n",
        "s_mc=SpatialDropout1D(0.4)(embeding_mc)\n",
        "o_mc=LSTM(16, dropout=0.4)(s_mc)\n",
        "s_af=SpatialDropout1D(0.4)(embeding_af)\n",
        "o_af=LSTM(16, dropout=0.4)(s_af)\n",
        "s_ac=SpatialDropout1D(0.4)(embeding_ac)\n",
        "o_ac=LSTM(16, dropout=0.4)(s_ac)\n",
        "concat_layer = Concatenate()([o_mc, o_af,o_ac])\n",
        "# r=Dense(32, activation='relu')(concat_layer)\n",
        "lstm1 = Dense(10, activation='softmax')(concat_layer)\n",
        "\n",
        "model = Model(inputs=[input_mc,input_af,input_ac], outputs=[lstm1])\n",
        "model.compile(loss='categorical_crossentropy', optimizer=adam, metrics=['accuracy'])\n",
        "\n",
        "history = model.fit([X_train_mc,X_train_af,X_train_ac], y3_train, validation_split=0.2, epochs=100,verbose=1,batch_size=64,callbacks=[es])"
      ],
      "execution_count": null,
      "outputs": []
    },
    {
      "cell_type": "code",
      "metadata": {
        "colab": {
          "base_uri": "https://localhost:8080/",
          "height": 281
        },
        "id": "JqjTTeaVvoAq",
        "outputId": "d9478c97-3cac-4bb1-ba92-4194e553d9b0"
      },
      "source": [
        "plt.title('Loss')\n",
        "plt.plot(history.history['loss'], label='train')\n",
        "plt.plot(history.history['val_loss'], label='test')\n",
        "plt.legend()\n",
        "plt.show();"
      ],
      "execution_count": null,
      "outputs": [
        {
          "output_type": "display_data",
          "data": {
            "image/png": "[encoded data removed]",
            "text/plain": [
              "<Figure size 432x288 with 1 Axes>"
            ]
          },
          "metadata": {
            "tags": [],
            "needs_background": "light"
          }
        }
      ]
    },
    {
      "cell_type": "code",
      "metadata": {
        "colab": {
          "base_uri": "https://localhost:8080/",
          "height": 281
        },
        "id": "aXZwXFhQvoAr",
        "outputId": "9ae0436c-1991-4f4e-d2e8-198eb40c5ebe"
      },
      "source": [
        "plt.title('Accuracy')\n",
        "plt.plot(history.history['accuracy'], label='train')\n",
        "plt.plot(history.history['val_accuracy'], label='test')\n",
        "plt.legend()\n",
        "plt.show();"
      ],
      "execution_count": null,
      "outputs": [
        {
          "output_type": "display_data",
          "data": {
            "image/png": "[encoded data removed]",
            "text/plain": [
              "<Figure size 432x288 with 1 Axes>"
            ]
          },
          "metadata": {
            "tags": [],
            "needs_background": "light"
          }
        }
      ]
    },
    {
      "cell_type": "code",
      "metadata": {
        "id": "StF9ZCndvoAr"
      },
      "source": [
        "# LSTM voor Y4_TRAIN\n",
        "adam = tf.keras.optimizers.Adam(learning_rate=0.0001)\n",
        "\n",
        "# Model checkpoint\n",
        "checkpoint_filepath = './LSTM_bestmodel.h5'\n",
        "mc = tf.keras.callbacks.ModelCheckpoint(filepath = checkpoint_filepath,save_weights_only=True, monitor='val_loss',mode='auto',save_best_only=True)\n",
        "\n",
        "# Early stopping\n",
        "es = EarlyStopping(monitor='val_accuracy', mode='max', verbose=1, patience = 35)\n",
        "\n",
        "# model\n",
        "input_mc = Input(shape=(400))\n",
        "input_af = Input(shape=(200))\n",
        "input_ac = Input(shape=(500))\n",
        "\n",
        "model = Sequential()\n",
        "embeding_mc=Embedding(MAX_NB_WORDS, EMBEDDING_DIM,input_length=X_train_mc.shape[1])(input_mc)\n",
        "embeding_af=Embedding(MAX_NB_WORDS, EMBEDDING_DIM,input_length=X_train_af.shape[1])(input_af)\n",
        "embeding_ac=Embedding(MAX_NB_WORDS, EMBEDDING_DIM,input_length=X_train_ac.shape[1])(input_ac)\n",
        "\n",
        "s_mc=SpatialDropout1D(0.4)(embeding_mc)\n",
        "o_mc=LSTM(16, dropout=0.4)(s_mc)\n",
        "s_af=SpatialDropout1D(0.4)(embeding_af)\n",
        "o_af=LSTM(16, dropout=0.4)(s_af)\n",
        "s_ac=SpatialDropout1D(0.4)(embeding_ac)\n",
        "o_ac=LSTM(16, dropout=0.4)(s_ac)\n",
        "concat_layer = Concatenate()([o_mc, o_af,o_ac])\n",
        "# r=Dense(32, activation='relu')(concat_layer)\n",
        "lstm1 = Dense(12, activation='softmax')(concat_layer)\n",
        "\n",
        "model = Model(inputs=[input_mc,input_af,input_ac], outputs=[lstm1])\n",
        "model.compile(loss='categorical_crossentropy', optimizer=adam, metrics=['accuracy'])\n",
        "\n",
        "history = model.fit([X_train_mc,X_train_af,X_train_ac], y4_train, validation_split=0.2, epochs=100,verbose=1,batch_size=64,callbacks=[es])"
      ],
      "execution_count": null,
      "outputs": []
    },
    {
      "cell_type": "code",
      "metadata": {
        "id": "DFeiAPF_voAs",
        "colab": {
          "base_uri": "https://localhost:8080/",
          "height": 281
        },
        "outputId": "946fcec9-5fc5-40c5-d9f0-07db7acbeead"
      },
      "source": [
        "plt.title('Loss')\n",
        "plt.plot(history.history['loss'], label='train')\n",
        "plt.plot(history.history['val_loss'], label='test')\n",
        "plt.legend()\n",
        "plt.show();"
      ],
      "execution_count": null,
      "outputs": [
        {
          "output_type": "display_data",
          "data": {
            "image/png": "[encoded data removed]",
            "text/plain": [
              "<Figure size 432x288 with 1 Axes>"
            ]
          },
          "metadata": {
            "tags": [],
            "needs_background": "light"
          }
        }
      ]
    },
    {
      "cell_type": "code",
      "metadata": {
        "id": "IyCbssilvoAt",
        "colab": {
          "base_uri": "https://localhost:8080/",
          "height": 281
        },
        "outputId": "2d9434fd-42c6-4d36-bc50-51d8d1ef2295"
      },
      "source": [
        "plt.title('Accuracy')\n",
        "plt.plot(history.history['accuracy'], label='train')\n",
        "plt.plot(history.history['val_accuracy'], label='test')\n",
        "plt.legend()\n",
        "plt.show();"
      ],
      "execution_count": null,
      "outputs": [
        {
          "output_type": "display_data",
          "data": {
            "image/png": "[encoded data removed]",
            "text/plain": [
              "<Figure size 432x288 with 1 Axes>"
            ]
          },
          "metadata": {
            "tags": [],
            "needs_background": "light"
          }
        }
      ]
    },
    {
      "cell_type": "code",
      "metadata": {
        "id": "Yb0T3GYUvoAt"
      },
      "source": [
        ""
      ],
      "execution_count": null,
      "outputs": []
    },
    {
      "cell_type": "code",
      "metadata": {
        "id": "xfELmsr1voAt"
      },
      "source": [
        ""
      ],
      "execution_count": null,
      "outputs": []
    }
  ]
}